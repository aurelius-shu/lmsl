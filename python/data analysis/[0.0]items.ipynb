{
 "cells": [
  {
   "cell_type": "markdown",
   "metadata": {},
   "source": [
    "# python 数据分析\n",
    "\n",
    "## 概览\n",
    "### Numpy\n",
    "- NumPy 是 Python 语言的一个扩充程序库。支持大量的高级维度数组与矩阵运算，此外也针对数组运算提供大量的数学函数库。\n",
    "- 核心数据结构：ndarray。\n",
    "- 矩阵计算优化。\n",
    "\n",
    "### pandas\n",
    "- Pandas 纳入了大量库和一些标准的数据模型，提供了高效地操作大型数据集所需的工具。pandas提供了大量能使我们快速便捷地处理数据的函数和方法。\n",
    "- 核心数据结构：Series, DataFrame和index对象。\n",
    "- 缺失数据处理。\n",
    "- pandas处理Excel文件。\n",
    "\n",
    "### Matplotlib\n",
    "- 基本配置\n",
    "- 坐标标记\n",
    "- 图例和注释\n",
    "- 基本图形例子：散点图、柱状图、3D图\n",
    "\n",
    "### SciPy\n",
    "- SciPy是一种使用NumPy来做高等数学、信号处理、优化、统计和许多其它科学任务的语言扩展。\n",
    "- 最小二乘拟合\n",
    "\n",
    "### 数据来源\n",
    "- Tushare\n",
    "- http://archive.ics.uci.edu/ml/\n",
    "\n",
    "### 计算股票价格相关性"
   ]
  },
  {
   "cell_type": "markdown",
   "metadata": {},
   "source": [
    "## 计划\n",
    "### 2019-02-15 -> 2019-02-17\n",
    "- 概览\n",
    "- Numpy 基础\n",
    "\n",
    "### 2019-02-16 -> 2019-02-19\n",
    "- Pandas 基础\n",
    "- 数据获取与处理\n",
    "\n",
    "### 2019-02-17 -> 2019-02-20\n",
    "- Matplotlib 与数据可视化\n",
    "- 文本分析\n",
    "- Scikit Learn\n",
    "\n",
    "### 2019-02-18 -> 2019-02-21\n",
    "- 社交网络分析 igraph\n",
    "\n",
    "### 2019-02-19 -> 2019-02-21\n",
    "- 多线程任务\n",
    "\n",
    "### 2019-02-20 -> 2019-02-22\n",
    "- 深度学习"
   ]
  }
 ],
 "metadata": {
  "kernelspec": {
   "display_name": "Python 3",
   "language": "python",
   "name": "python3"
  },
  "language_info": {
   "codemirror_mode": {
    "name": "ipython",
    "version": 3
   },
   "file_extension": ".py",
   "mimetype": "text/x-python",
   "name": "python",
   "nbconvert_exporter": "python",
   "pygments_lexer": "ipython3",
   "version": "3.8.5"
  },
  "toc": {
   "base_numbering": 1,
   "nav_menu": {},
   "number_sections": true,
   "sideBar": true,
   "skip_h1_title": false,
   "title_cell": "Table of Contents",
   "title_sidebar": "Contents",
   "toc_cell": false,
   "toc_position": {
    "height": "calc(100% - 180px)",
    "left": "10px",
    "top": "150px",
    "width": "280.188px"
   },
   "toc_section_display": true,
   "toc_window_display": true
  }
 },
 "nbformat": 4,
 "nbformat_minor": 2
}
