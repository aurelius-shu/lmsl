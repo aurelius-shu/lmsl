{
 "cells": [
  {
   "cell_type": "markdown",
   "metadata": {},
   "source": [
    "# Zookeeper"
   ]
  },
  {
   "cell_type": "markdown",
   "metadata": {},
   "source": [
    "## Theory\n",
    "```\n",
    "    hadoop 的分布式协调服务（分布式锁，负载均衡，数据同步）\n",
    "    它包含一个简单的原语集，分布式应用程序可基于它实现同步服务，配置维护和命名服务等\n",
    "```\n",
    "\n",
    "## What To Do\n",
    "HDFS\n",
    "- 保证整个集群只有一个活跃的 NameNode\n",
    "- 存储配置信息等\n",
    "***\n",
    "HBase\n",
    "- 保证整个集群的 HBase 只有一个 HMaster\n",
    "- HReigionSer 联机和宕机，存储访问控制等\n",
    "***\n",
    "\n",
    "## Clusters\n",
    "``` bash\n",
    "# 配置：\n",
    "cd /path/zookeepr-3.4.5/conf/\n",
    "cp zoo_sample.cfg zoo.conf\n",
    "vi zoo.cfg\n",
    "```\n",
    "```\n",
    "# 修改\n",
    "dataDir=/path/zookeeper-3.4.5/data/\n",
    "# 添加\n",
    "server.1=ip:2888:3888\n",
    "```\n",
    "``` bash\n",
    "# 创建 data 文件夹\n",
    "mkdir /path/zookeeper-3.4.5/data\n",
    "# 创建空文件\n",
    "touch /path/zookeeper-3.4.5/data/myid\n",
    "echo 1 > /path/zookeeper-3.4.5/data/myid\n",
    "\n",
    "# 将配置好的 zookeeper 分发给其他节点\n",
    "scp -r /path/zookeeper-3.4.5/ ip:/path/zookeeper....\n",
    "\n",
    "# 修改其他机器上的 myid\n",
    "echo 2 > /path/zookeeper-3.4.5/data/myid\n",
    "\n",
    "# 启动\n",
    "cd /path/zookeeper-3.4.5/bin/\n",
    "./zkServer.sh start\n",
    "```"
   ]
  },
  {
   "source": [
    "```shell\n",
    "tar -zxvf apache-zookeeper-3.5.8-bin.tar.gz\n",
    "cd ~/apache-zookeeper-3.5.8-bin\n",
    "cp zoo_sample.cfg zoo.conf\n",
    "vi zoo.conf\n",
    "dataDir=/home/aurelius/apache-zookeeper-3.5.8-bin/data\n",
    "mkdir /home/aurelius/apache-zookeeper-3.5.8-bin/data\n",
    "scp -r /home/aurelius/apache-zookeeper-3.5.8-bin spark-node02:/home/aurelius/apache-zookeeper-3.5.8-bin\n",
    "scp -r /home/aurelius/apache-zookeeper-3.5.8-bin spark-node03:/home/aurelius/apache-zookeeper-3.5.8-bin\n",
    "# 在 spark-node02/spark-node03\n",
    "echo 2 > /home/aurelius/apache-zookeeper-3.5.8-bin/data/myid\n",
    "echo 3 > /home/aurelius/apache-zookeeper-3.5.8-bin/data/myid\n",
    "\n",
    "```"
   ],
   "cell_type": "markdown",
   "metadata": {}
  }
 ],
 "metadata": {
  "kernelspec": {
   "display_name": "Python 3",
   "language": "python",
   "name": "python3"
  },
  "language_info": {
   "codemirror_mode": {
    "name": "ipython",
    "version": 3
   },
   "file_extension": ".py",
   "mimetype": "text/x-python",
   "name": "python",
   "nbconvert_exporter": "python",
   "pygments_lexer": "ipython3",
   "version": "3.7.2"
  },
  "toc": {
   "base_numbering": 1,
   "nav_menu": {},
   "number_sections": true,
   "sideBar": true,
   "skip_h1_title": false,
   "title_cell": "Table of Contents",
   "title_sidebar": "Contents",
   "toc_cell": false,
   "toc_position": {},
   "toc_section_display": true,
   "toc_window_display": true
  }
 },
 "nbformat": 4,
 "nbformat_minor": 2
}