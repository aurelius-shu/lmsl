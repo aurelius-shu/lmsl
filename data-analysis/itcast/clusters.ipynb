{
 "cells": [
  {
   "cell_type": "markdown",
   "metadata": {},
   "source": [
    "# Clusters"
   ]
  },
  {
   "cell_type": "markdown",
   "metadata": {},
   "source": [
    "## centos-base(192.168.100.10)\n",
    "- hostname: centos-base\n",
    "- ipaddr=192.168.100.3\n",
    "- geteway=192.168.100.2\n",
    "- netmask=255.255.255.0\n",
    "- dns1=192.29.29.29\n",
    "- dns2=8.8.8.8"
   ]
  },
  {
   "cell_type": "markdown",
   "metadata": {},
   "source": [
    "## centos-node01(192.168.100.11)\n",
    "- hostname: node01\n",
    "- ipaddr=192.168.100.11\n",
    "- geteway=192.168.100.2\n",
    "- netmask=255.255.255.0\n",
    "- dns1=192.29.29.29\n",
    "- dns2=8.8.8.8"
   ]
  },
  {
   "cell_type": "markdown",
   "metadata": {},
   "source": [
    "## centos-node02(192.168.100.12)\n",
    "- hostname: node02\n",
    "- ipaddr=192.168.100.12\n",
    "- geteway=192.168.100.2\n",
    "- netmask=255.255.255.0\n",
    "- dns1=192.29.29.29\n",
    "- dns2=8.8.8.8"
   ]
  },
  {
   "cell_type": "markdown",
   "metadata": {},
   "source": [
    "## centos-node03(192.168.100.13)(HIVE)\n",
    "- hostname: node03\n",
    "- ipaddr=192.168.100.13\n",
    "- geteway=192.168.100.2\n",
    "- netmask=255.255.255.0\n",
    "- dns1=192.29.29.29\n",
    "- dns2=8.8.8.8"
   ]
  },
  {
   "cell_type": "markdown",
   "metadata": {},
   "source": [
    "## centos-node04(192.168.100.14)\n",
    "- hostname: node04\n",
    "- ipaddr=192.168.100.14\n",
    "- geteway=192.168.100.2\n",
    "- netmask=255.255.255.0\n",
    "- dns1=192.29.29.29\n",
    "- dns2=8.8.8.8"
   ]
  },
  {
   "cell_type": "markdown",
   "metadata": {},
   "source": [
    "## centos-node05(192.168.100.15)(MYSQL)\n",
    "- hostname: node05\n",
    "- ipaddr=192.168.100.15\n",
    "- geteway=192.168.100.2\n",
    "- netmask=255.255.255.0\n",
    "- dns1=192.29.29.29\n",
    "- dns2=8.8.8.8\n",
    "    - mysql:\n",
    "    - root/******\n",
    "    - aurelius/******"
   ]
  },
  {
   "cell_type": "markdown",
   "metadata": {},
   "source": [
    "## centos-node06(192.168.100.16)\n",
    "- hostname: node06\n",
    "- ipaddr=192.168.100.16\n",
    "- geteway=192.168.100.2\n",
    "- netmask=255.255.255.0\n",
    "- dns1=192.29.29.29\n",
    "- dns2=8.8.8.8"
   ]
  },
  {
   "cell_type": "markdown",
   "metadata": {},
   "source": [
    "## centos-python(192.168.100.21)(python;mysql)\n",
    "- hostname: centos-python\n",
    "- ipaddr=192.168.100.21\n",
    "- geteway=192.168.100.2\n",
    "- netmask=255.255.255.0\n",
    "- dns1=192.29.29.29\n",
    "- dns2=8.8.8.8\n",
    "- mysql\n",
    "    - root/******\n",
    "    - aureliuls/******"
   ]
  },
  {
   "cell_type": "markdown",
   "metadata": {},
   "source": [
    "## centos-zabbix(192.168.100.64)(zabbix;mysql)\n",
    "- hostname: zabbix\n",
    "- ipaddr=192.168.100.64\n",
    "- geteway=192.168.100.2\n",
    "- netmask=255.255.255.0\n",
    "- dns1=192.29.29.29\n",
    "- dns2=8.8.8.8\n",
    "- mysql\n",
    "    - root/******\n",
    "    - aureliuls/******"
   ]
  },
  {
   "cell_type": "markdown",
   "metadata": {},
   "source": [
    "## centos-zoe(192.168.100.69)\n",
    "- hostname: zoe\n",
    "- ipaddr=192.168.100.69\n",
    "- geteway=192.168.100.2\n",
    "- netmask=255.255.255.0\n",
    "- dns1=192.29.29.29\n",
    "- dns2=8.8.8.8\n",
    "- 安装路径：/usr/python/dw/dwenv/bin"
   ]
  },
  {
   "cell_type": "markdown",
   "metadata": {},
   "source": [
    "## centos-oracle(192.168.100.103)\n",
    "- hostname: oracle\n",
    "- ipaddr=192.168.100.103/192.168.100.31\n",
    "- geteway=192.168.100.2\n",
    "- netmask=255.255.255.0\n",
    "- dns1=192.29.29.29\n",
    "- dns2=8.8.8.8"
   ]
  },
  {
   "cell_type": "markdown",
   "metadata": {},
   "source": [
    "# 集群部署\n",
    "\n",
    "| 主机名 | ip | App | App | App | App | App |\n",
    "| -- | -- | -- | -- | -- | -- | -- |\n",
    "| base | 100.10 | \n",
    "| node01 | 100.11 | NameNode | DFSZKFailoverController | sqoop |\n",
    "| node02 | 100.12 | NameNode | DFSZKFailoverController | azkaban |\n",
    "| node03 | 100.13 | ResourceManager | Hive |\n",
    "| node04 | 100.14 | JournalNode | NodeManager | DataNode | QuorumPeerMain |\n",
    "| node05 | 100.15 | JournalNode | NodeManager | DataNode | QuorumPeerMain | mysql |\n",
    "| node06 | 100.16 | JournalNode | NodeManager | DataNode | QuorumPeerMain | \n",
    "| centos-python | 100.21 | azkaban | mysql(azkaban) |"
   ]
  },
  {
   "cell_type": "markdown",
   "metadata": {},
   "source": [
    "# Clusters-2019(伪分布式)"
   ]
  },
  {
   "cell_type": "markdown",
   "metadata": {},
   "source": [
    "## node00(100.60)\n"
   ]
  },
  {
   "cell_type": "markdown",
   "metadata": {},
   "source": [
    "## spark-node01(100.61)"
   ]
  },
  {
   "cell_type": "markdown",
   "metadata": {},
   "source": [
    "## spark-node02(100.62)"
   ]
  },
  {
   "cell_type": "markdown",
   "metadata": {},
   "source": [
    "## spark-node03(100.63)"
   ]
  },
  {
   "cell_type": "markdown",
   "metadata": {},
   "source": [
    "| 主机名 | ip | App | App | App | App | App |\n",
    "| -- | -- | -- | -- | -- | -- | -- |\n",
    "| node00 | 100.60 | \n",
    "| spark-node01 | 100.61 | NameNode | DataNode | secondarynamenode | resourcemanager | nodemanager |\n",
    "| spark-node02 | 100.62 | DataNode | nodemanager |\n",
    "| spark-node03 | 100.63 | DataNode | nodemanager | hive |"
   ]
  },
  {
   "cell_type": "markdown",
   "metadata": {},
   "source": [
    "# 网络"
   ]
  },
  {
   "cell_type": "markdown",
   "metadata": {},
   "source": [
    "## 三种虚拟机网络模式\n",
    "1. bridge：局域网的一台独立主机，手动 TCP/IP\n",
    "2. nat：通过宿主机器所在网络访问公网 VMnet8(NAT)，不用任何手动配置\n",
    "3. host-only：VMnet1 虚拟网络的 DHCP 服务器动态分配，与真实网络隔离"
   ]
  },
  {
   "cell_type": "markdown",
   "metadata": {},
   "source": [
    "## 网络配置\n",
    "- 网络：vmnet8\n",
    "- 子网Ip:192.168.100.0\n",
    "- 子网掩码：255.255.255.0\n",
    "- 网关设置： 192.168.100.2"
   ]
  },
  {
   "cell_type": "markdown",
   "metadata": {},
   "source": [
    "# 用户\n",
    "- root: 999999\n",
    "- admin: 999999"
   ]
  },
  {
   "cell_type": "markdown",
   "metadata": {},
   "source": [
    "# JDK\n",
    "- 版本：jdk1.8.0_181\n",
    "- 路径：/usr/java\n",
    "- 环境变量：\n",
    "    - export JAVA_HOME=/usr/java/jdk1.8.0_181\n",
    "    - export PATH=\\$PATH:\\$JAVA_HOME/bin\n",
    "    - source /etc/profile"
   ]
  },
  {
   "cell_type": "markdown",
   "metadata": {},
   "source": [
    "# Hadoop"
   ]
  },
  {
   "cell_type": "markdown",
   "metadata": {},
   "source": [
    "## 版本\n",
    "- hadoop-2.9.1"
   ]
  },
  {
   "cell_type": "markdown",
   "metadata": {},
   "source": [
    "## 路径\n",
    "- /hadoop"
   ]
  },
  {
   "cell_type": "markdown",
   "metadata": {},
   "source": [
    "## 配置文件\n",
    "\n",
    "### 路径\n",
    "```\n",
    "/hadoop/hadoop-2.9.1/etc/hadoop\n",
    "```\n",
    "\n",
    "### jdk依赖\n",
    "```\n",
    "(hadoop-env.sh): export JAVA_HOME=/usr/java/jdk1.8.0_181\n",
    "```"
   ]
  },
  {
   "cell_type": "markdown",
   "metadata": {},
   "source": [
    "### core-site.xml\n",
    "``` xml\n",
    "<!--单机-->\n",
    "<!--HDFS的NameNode地址-->\n",
    "<property>\n",
    "        <name>fs.defaultFS</name>\n",
    "        <value>hdfs://centos-base:9000</value>\n",
    "</property>\n",
    "<!--Runtime files-->\n",
    "<property>\n",
    "        <name>hadoop.tmp.dir</name>\n",
    "        <value>/hadoop/hadoop-2.9.1/tmp</value>\n",
    "</property>\n",
    "```\n",
    "``` xml\n",
    "<!--集群-->\n",
    "<!--HDFS NameNode-->\n",
    "<property>\n",
    "        <name>fs.defaultFS</name>\n",
    "        <value>hdfs://ns1</value>\n",
    "</property>\n",
    "<!--runtime files-->\n",
    "<property>\n",
    "        <name>hadoop.tmp.dir</name>\n",
    "        <value>/hadoop/hadoop-2.9.1/tmp</value>\n",
    "</property>\n",
    "<property>\n",
    "        <name>ha.zookeeper.quorum</name>\n",
    "        <value>node04:2181,node05:2181,node06:2181</value>\n",
    "</property>\n",
    "```"
   ]
  },
  {
   "cell_type": "markdown",
   "metadata": {},
   "source": [
    "### hdfs.site.xml\n",
    "``` xml\n",
    "<!--单机-->\n",
    "<!--hdfs data 保存副本数量-->\n",
    "<property>\n",
    "        <name>dfs.replication</name>\n",
    "        <value>1</value>\n",
    "</property>\n",
    "```\n",
    "``` xml\n",
    "<!--集群-->        \n",
    "<!--这里抽象出两个NameService实际上就是给这个HDFS集群起了个别名-->\n",
    "<property>\n",
    "    <name>dfs.nameservices</name>\n",
    "    <value>ns1</value>\n",
    "</property>\n",
    "\n",
    "<!--指定NameService是cluster1时的namenode有哪些,这里的值也是逻辑名称，名字随便起，相互不重复即可-->\n",
    "<property>\n",
    "    <name>dfs.ha.namenodes.ns1</name>\n",
    "    <value>nn1,nn2</value>\n",
    "</property>\n",
    "\n",
    "<!--指定nn1,nn2的RPC地址 8020 9000-->\n",
    "    <property>\n",
    "        <name>dfs.namenode.rpc-address.ns1.nn1</name>\n",
    "        <value>node01:9000</value>\n",
    "    </property>\n",
    "    <property>\n",
    "        <name>dfs.namenode.rpc-address.ns1.nn2</name>\n",
    "        <value>node02:9000</value>\n",
    "    </property>\n",
    "\n",
    "<!--指定nn1、nn2的http地址-->\n",
    "    <property>\n",
    "        <name>dfs.namenode.http-address.ns1.nn1</name>\n",
    "        <value>node01:50070</value>\n",
    "    </property>\n",
    "    <property>\n",
    "        <name>dfs.namenode.http-address.ns1.nn2</name>\n",
    "        <value>node02:50070</value>\n",
    "    </property>\n",
    "\n",
    "<!--指定cluster1的两个NameNode共享edits文件目录时，使用的JournalNode集群信息-->\n",
    "    <property>\n",
    "        <name>dfs.namenode.shared.edits.dir</name>\n",
    "        <value>qjournal://node04:8485;node05:8485;node06:8485/ns1</value>\n",
    "    </property>\n",
    "\n",
    "<!--指定JournalNode集群在对NameNode的目录进行共享时，自己存储数据的磁盘路径-->\n",
    "    <property>\n",
    "      <name>dfs.journalnode.edits.dir</name>\n",
    "      <value>/hadoop/hadoop-2.9.1/data/jn</value>\n",
    "    </property>\n",
    "\n",
    "<!--指定是否启动自动故障恢复，即当NameNode出故障时，是否自动切换到另一台NameNode-->\n",
    "    <property>\n",
    "       <name>dfs.ha.automatic-failover.enabled</name>\n",
    "       <value>true</value>\n",
    "     </property>\n",
    "\n",
    "<!--指定cluster1出故障时，哪个实现类负责执行故障切换-->\n",
    "    <property>\n",
    "      <name>dfs.client.failover.proxy.provider.ns1</name>\n",
    "      <value>org.apache.hadoop.hdfs.server.namenode.ha.ConfiguredFailoverProxyProvider</value>\n",
    "    </property>\n",
    "\n",
    "<!--一旦需要NameNode切换，使用ssh方式进行操作-->\n",
    "    <property>\n",
    "      <name>dfs.ha.fencing.methods</name>\n",
    "      <value>\n",
    "        sshfence\n",
    "        shell(/bin/true)\n",
    "      </value>\n",
    "    </property>\n",
    "\n",
    "<!--如果使用ssh进行故障切换，使用ssh通信时用的密钥存储的位置-->\n",
    "    <property>\n",
    "      <name>dfs.ha.fencing.ssh.private-key-files</name>\n",
    "      <value>/home/beifeng/.ssh/id_rsa</value>\n",
    "    </property>\n",
    "\n",
    "<!--sshfence 超时时间-->\n",
    "    <property>\n",
    "        <name>dfs.ha.fencing.ssh.connect-timeout</name>\n",
    "        <value>30000</value>\n",
    "    </property>\n",
    "\n",
    "<!--指定DataNode存储block的副本数量-->\n",
    "    <property>\n",
    "        <name>dfs.replication</name>\n",
    "        <value>3</value>\n",
    "    </property>\n",
    "<!--解释：hadoop 守护进程一般同时运行RPC 和HTTP两个服务器，RPC服务器支持守护进程间的通信，HTTP服务器则提供与用户交互的Web页面。-->\n",
    "```"
   ]
  },
  {
   "cell_type": "markdown",
   "metadata": {},
   "source": [
    "### mapred-site.xml\n",
    "``` xml\n",
    "<!--mapreduce运行在yarn上-->\n",
    "<property>\n",
    "        <name>mapreduce.framework.name</name>\n",
    "        <value>yarn</value>\n",
    "</property>\n",
    "```"
   ]
  },
  {
   "cell_type": "markdown",
   "metadata": {},
   "source": [
    "### yarn-site.xml\n",
    "``` xml\n",
    "<!--制定数据获取方式是shuffle-->\n",
    "<property>\n",
    "        <name>yarn.nodemanager.aux-services</name>\n",
    "        <value>mapreduce_shuffle</value>\n",
    "</property>\n",
    "<!--指定yarn的resourcemanager地址-->\n",
    "<property>\n",
    "        <name>yarn.resourcemanager.hostname</name>\n",
    "        <value>centos-base</value>\n",
    "</property>\n",
    "```"
   ]
  },
  {
   "cell_type": "markdown",
   "metadata": {},
   "source": [
    "### 环境变量\n",
    "``` shell\n",
    "export HADOOP_HOME=/hadoop/hadoop-2.9.1\n",
    "export PATH=$PATH:$HADOOP_HOME/bin\n",
    "source /etc/profile\n",
    "```"
   ]
  },
  {
   "cell_type": "markdown",
   "metadata": {},
   "source": [
    "# zookeeper\n",
    "- dataDir = /hadoop/zookeeper-3.4.12/data\n",
    "- server.1=node04:2888:3888\n",
    "- server.2=node05:2888:3888\n",
    "- server.3=node06:2888:3888"
   ]
  },
  {
   "cell_type": "markdown",
   "metadata": {},
   "source": []
  },
  {
   "cell_type": "markdown",
   "metadata": {},
   "source": []
  },
  {
   "cell_type": "markdown",
   "metadata": {},
   "source": []
  },
  {
   "cell_type": "markdown",
   "metadata": {},
   "source": []
  }
 ],
 "metadata": {
  "kernelspec": {
   "display_name": "Python 3",
   "language": "python",
   "name": "python3"
  },
  "language_info": {
   "codemirror_mode": {
    "name": "ipython",
    "version": 3
   },
   "file_extension": ".py",
   "mimetype": "text/x-python",
   "name": "python",
   "nbconvert_exporter": "python",
   "pygments_lexer": "ipython3",
   "version": "3.8.5"
  },
  "toc": {
   "base_numbering": 1,
   "nav_menu": {},
   "number_sections": true,
   "sideBar": true,
   "skip_h1_title": false,
   "title_cell": "Table of Contents",
   "title_sidebar": "Contents",
   "toc_cell": false,
   "toc_position": {
    "height": "calc(100% - 180px)",
    "left": "10px",
    "top": "150px",
    "width": "288px"
   },
   "toc_section_display": true,
   "toc_window_display": true
  }
 },
 "nbformat": 4,
 "nbformat_minor": 2
}