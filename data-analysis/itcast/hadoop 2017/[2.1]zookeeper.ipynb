{
 "cells": [
  {
   "cell_type": "markdown",
   "metadata": {},
   "source": [
    "# 安装"
   ]
  },
  {
   "cell_type": "markdown",
   "metadata": {},
   "source": [
    "## 修改环境变量\n",
    "```shell\n",
    "# 切换到 root\n",
    "su -root\n",
    "\n",
    "# 修改 profile \n",
    "vi /etc/profile\n",
    "# 添加如下内容：\n",
    "export ZOOKEEPER_HOME=/hadoop/zookeeper\n",
    "export PATH=$PATH:$ZOOKEEPER_HOME/bin\n",
    "\n",
    "# 重新编译文件\n",
    "source /etc/profile\n",
    "\n",
    "# 切换回 hadoop 用户\n",
    "su - hadoop\n",
    "```"
   ]
  },
  {
   "cell_type": "markdown",
   "metadata": {},
   "source": [
    "## 修改配置文件\n",
    "```\n",
    "# 使用 hadoop 用户\n",
    "cd /hadoop/zookeeper/conf\n",
    "cp zoo_sample.cfg zoo.cfg\n",
    "\n",
    "# 修改 zoo.cfg\n",
    "vi zoo.cfg\n",
    "# 添加如下内容\n",
    "dataDir=/hadoop/zookeeper/data\n",
    "dataLogDir=/hadoop/zookeeper/log\n",
    "server.1=node04:2888:3888 (主机名, 心跳端口、数据端口)\n",
    "server.2=node05:2888:3888\n",
    "server.3=node06:2888:3888\n",
    "\n",
    "# 创建文件夹\n",
    "cd /hadoop/zookeeper\n",
    "mkdir -m 755 data\n",
    "mkdir -m 755 log\n",
    "\n",
    "# 在 data 目录下新建 myid 文件\n",
    "cd data\n",
    "vi myid\n",
    "添加如下内容：\n",
    "1\n",
    "```"
   ]
  },
  {
   "cell_type": "markdown",
   "metadata": {},
   "source": [
    "## 将 zookeeper 环境下发集群其他机器\n",
    "```shell\n",
    "scp -r /hadoop/zookeeper hadoop@node05:/hadoop/\n",
    "scp -r /hadoop/zookeeper hadoop@node06:/hadoop/\n",
    "```"
   ]
  },
  {
   "cell_type": "markdown",
   "metadata": {},
   "source": [
    "## 修改配置文件\n",
    "```\n",
    "# 在 node05 上， 修改 myid 为: 2\n",
    "# 在 node06 上， 修改 myid 为: 3\n",
    "\n",
    "```"
   ]
  },
  {
   "cell_type": "markdown",
   "metadata": {},
   "source": [
    "## 启动（每台机器）\n",
    "```shell\n",
    "zkServer.sh start\n",
    "\n",
    "# 查看进程\n",
    "jps\n",
    "\n",
    "# 查看集群状态，主从信息\n",
    "zkServer.sh status\n",
    "```"
   ]
  },
  {
   "cell_type": "markdown",
   "metadata": {},
   "source": [
    "# 概念"
   ]
  },
  {
   "cell_type": "markdown",
   "metadata": {},
   "source": [
    "## 简介\n",
    "```\n",
    "Zookeeper是一个分布式协调服务；就是为用户的分布式应用程序提供协调服务\n",
    "A、zookeeper是为别的分布式程序服务的\n",
    "B、Zookeeper本身就是一个分布式程序（只要有半数以上节点存活，zk就能正常服务）\n",
    "C、Zookeeper所提供的服务涵盖：主从协调、服务器节点动态上下线、统一配置管理、分布式共享锁、统一名称服务……\n",
    "D、虽然说可以提供各种服务，但是zookeeper在底层其实只提供了两个功能：\n",
    "管理(存储，读取)用户程序提交的数据；\n",
    "并为用户程序提供数据节点监听服务；\n",
    "\n",
    "Zookeeper集群的角色：  Leader 和  follower  （Observer）\n",
    "只要集群中有半数以上节点存活，集群就能提供服务\n",
    "```"
   ]
  },
  {
   "cell_type": "markdown",
   "metadata": {},
   "source": [
    "## 特性\n",
    "```\n",
    "1、Zookeeper：一个leader，多个follower组成的集群\n",
    "2、全局数据一致：每个server保存一份相同的数据副本，client无论连接到哪个server，数据都是一致的\n",
    "3、分布式读写，更新请求转发，由leader实施\n",
    "4、更新请求顺序进行，来自同一个client的更新请求按其发送顺序依次执行\n",
    "5、数据更新原子性，一次数据更新要么成功，要么失败\n",
    "6、实时性，在一定时间范围内，client能读到最新数据\n",
    "```"
   ]
  },
  {
   "cell_type": "markdown",
   "metadata": {},
   "source": [
    "## 数据结构\n",
    "```\n",
    "层次化的目录结构，命名符合常规文件系统规范\n",
    "2、每个节点在zookeeper中叫做znode,并且其有一个唯一的路径标识\n",
    "3、节点Znode可以包含数据和子节点（但是EPHEMERAL类型的节点不能有子节点）\n",
    "4、客户端应用可以在节点上设置监视器\n",
    "```"
   ]
  },
  {
   "cell_type": "markdown",
   "metadata": {},
   "source": [
    "## 节点类型\n",
    "```\n",
    "1、Znode有两种类型：\n",
    "短暂（ephemeral）（断开连接自己删除）\n",
    "持久（persistent）（断开连接不删除）\n",
    "2、Znode有四种形式的目录节点（默认是persistent ）\n",
    "PERSISTENT\n",
    "PERSISTENT_SEQUENTIAL（持久序列/test0000000019 ）\n",
    "EPHEMERAL\n",
    "EPHEMERAL_SEQUENTIAL\n",
    "3、创建znode时设置顺序标识，znode名称后会附加一个值，顺序号是一个单调递增的计数器，由父节点维护\n",
    "4、在分布式系统中，顺序号可以被用于为所有的事件进行全局排序，这样客户端可以通过顺序号推断事件的顺序\n",
    "```"
   ]
  },
  {
   "cell_type": "markdown",
   "metadata": {},
   "source": [
    "## 命令行操作\n",
    "```shell\n",
    "# 进入命令行工具\n",
    "zkCli.sh –server ip\n",
    " \n",
    "# 使用 ls 命令来查看当前 ZooKeeper 中所包含的内容：\n",
    "ls /\n",
    "# 创建一个新的 znode ，使用 create /zk myData 。这个命令创建了一个新的 znode 节点“ zk ”以及与它关联的字符串：\n",
    "create /zk \"myData\"\n",
    "\n",
    "# 我们运行 get 命令来确认 znode 是否包含我们所创建的字符串：\n",
    "get /zk\n",
    "\n",
    "# 监听这个节点的变化,\n",
    "get /zk watch\n",
    "# 当另外一个客户端改变/zk时,它会打印如下信息\n",
    "# WATCHER::\n",
    "# WatchedEvent state:SyncConnected type:NodeDataChanged path:/zk\n",
    "\n",
    "# 下面我们通过 set 命令来对 zk 所关联的字符串进行设置：\n",
    "set /zk \"zsl\"\n",
    "\n",
    "# 下面我们将刚才创建的 znode 删除：\n",
    "delete /zk\n",
    "\n",
    "# 删除节点：rmr\n",
    "# rmr /zk\n",
    "```"
   ]
  },
  {
   "cell_type": "markdown",
   "metadata": {},
   "source": [
    "# 选举机制"
   ]
  },
  {
   "cell_type": "markdown",
   "metadata": {},
   "source": [
    "## 全新集群 paxos"
   ]
  },
  {
   "cell_type": "markdown",
   "metadata": {},
   "source": [
    "## 非全新集群（数据恢复）"
   ]
  },
  {
   "cell_type": "markdown",
   "metadata": {},
   "source": [
    "# api 应用"
   ]
  },
  {
   "cell_type": "markdown",
   "metadata": {},
   "source": [
    "## 基本操作"
   ]
  },
  {
   "cell_type": "markdown",
   "metadata": {},
   "source": [
    "## 分布式锁"
   ]
  },
  {
   "cell_type": "markdown",
   "metadata": {},
   "source": [
    "## 分布式应用状态更新"
   ]
  },
  {
   "cell_type": "markdown",
   "metadata": {},
   "source": [
    "# docker\n",
    "\n",
    "```bash\n",
    "docker run -d \\\n",
    "-p 2181:2181 \\\n",
    "-v /mysoft/zookeeper/data/:/data/ \\\n",
    "--name=zookeeper  \\\n",
    "--privileged zookeeper\n",
    "```"
   ]
  }
 ],
 "metadata": {
  "kernelspec": {
   "display_name": "Python 3",
   "language": "python",
   "name": "python3"
  },
  "language_info": {
   "codemirror_mode": {
    "name": "ipython",
    "version": 3
   },
   "file_extension": ".py",
   "mimetype": "text/x-python",
   "name": "python",
   "nbconvert_exporter": "python",
   "pygments_lexer": "ipython3",
   "version": "3.8.6"
  },
  "toc": {
   "base_numbering": 1,
   "nav_menu": {},
   "number_sections": true,
   "sideBar": true,
   "skip_h1_title": false,
   "title_cell": "Table of Contents",
   "title_sidebar": "Contents",
   "toc_cell": false,
   "toc_position": {},
   "toc_section_display": true,
   "toc_window_display": true
  }
 },
 "nbformat": 4,
 "nbformat_minor": 2
}
