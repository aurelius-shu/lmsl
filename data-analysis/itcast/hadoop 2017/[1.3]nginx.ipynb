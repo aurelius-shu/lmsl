{
 "cells": [
  {
   "cell_type": "markdown",
   "metadata": {
    "heading_collapsed": true
   },
   "source": [
    "# 安装"
   ]
  },
  {
   "cell_type": "markdown",
   "metadata": {
    "hidden": true
   },
   "source": [
    "## 添加 nginx 的yum repro库\n",
    "```shell\n",
    " rpm -ivh http://nginx.org/packages/centos/7/noarch/RPMS/nginx-release-centos-7-0.el7.ngx.noarch.rpm\n",
    " ```"
   ]
  },
  {
   "cell_type": "markdown",
   "metadata": {
    "hidden": true
   },
   "source": [
    "## 查看 nginx 信息\n",
    "```shell\n",
    "yum info nginx\n",
    "```"
   ]
  },
  {
   "cell_type": "markdown",
   "metadata": {
    "hidden": true
   },
   "source": [
    "## 安装 nginx\n",
    "```shell\n",
    "yum install -y nginx\n",
    "```"
   ]
  },
  {
   "cell_type": "markdown",
   "metadata": {
    "hidden": true
   },
   "source": [
    "## 启动 nginx\n",
    "```shell\n",
    "systemctl start nginx.service\n",
    "```"
   ]
  },
  {
   "cell_type": "markdown",
   "metadata": {},
   "source": [
    "# 相关概念"
   ]
  },
  {
   "cell_type": "markdown",
   "metadata": {},
   "source": [
    "## 反向代理\n",
    "```\n",
    "反向代理（Reverse Proxy）方式是指以代理服务器来接受internet上的连接请求，然后将请求转发给内部网络上的服务器，并将从服务器上得到的结果返回给internet上请求连接的客户端，此时代理服务器对外就表现为一个服务器。\n",
    "```"
   ]
  },
  {
   "cell_type": "markdown",
   "metadata": {},
   "source": [
    "## 负载均衡\n",
    "```\n",
    "负载均衡，英文名称为Load Balance，是指建立在现有网络结构之上，并提供了一种廉价有效透明的方法扩展网络设备和服务器的带宽、增加吞吐量、加强网络数据处理能力、提高网络的灵活性和可用性。其原理就是数据流量分摊到多个服务器上执行，减轻每台服务器的压力，多台服务器共同完成工作任务，从而提高了数据的吞吐量。\n",
    "```"
   ]
  },
  {
   "cell_type": "markdown",
   "metadata": {},
   "source": [
    "# 配置 nginx"
   ]
  },
  {
   "cell_type": "markdown",
   "metadata": {},
   "source": [
    "## 反向代理\n",
    "\n",
    "```\n",
    "1. 修改 nginx 配置文件\n",
    "server {\n",
    "    listen       80;\n",
    "    server_name  nginx-01.edu.cn;    # nginx所在服务器的主机名\n",
    "#反向代理的配置\n",
    "location / {             # 拦截所有请求\n",
    "    root html;\n",
    "        proxy_pass http://192.168.0.21:8080;   #这里是代理走向的目标服务器：tomcat\n",
    "    }\n",
    "}\n",
    "\n",
    "2. 启动tomcat-01上的tomcat\n",
    "\n",
    "3. 启动nginx-01上的nginx\n",
    "./nginx\n",
    "\n",
    "kill -HUP `cat /usr/local/nginx/logs/nginx.pid    # 重启\n",
    "```\n",
    "[参考](http://www.cnblogs.com/jianxie/p/3990377.html)"
   ]
  },
  {
   "cell_type": "markdown",
   "metadata": {},
   "source": [
    "## 动静分离\n",
    "```\n",
    "# 动态资源 index.jsp\n",
    "location ~ .*\\.(jsp|do|action)$ {\n",
    "    proxy_pass http://tomcat-01.itcast.cn:8080;\n",
    "}\n",
    "\n",
    "# 静态资源\n",
    "location ~ .*\\.(html|js|css|gif|jpg|jpeg|png)$ {\n",
    "    expires 3d;\n",
    "}\n",
    "```"
   ]
  },
  {
   "cell_type": "markdown",
   "metadata": {},
   "source": [
    "## 负载均衡\n",
    "```\n",
    "# 在http这个节下面配置一个叫upstream的，后面的名字可以随意取，但是要和location下的proxy_pass http://后的保持一致\n",
    "http {\n",
    "    是在http里面的, 已有http, 不是在server里,在server外面\n",
    "    upstream tomcats { \n",
    "        server shizhan02:8080 weight=1;#weight表示多少个\n",
    "        server shizhan03:8080 weight=1;\n",
    "        server shizhan04:8080 weight=1;\n",
    "    }\n",
    "#卸载server里\n",
    "location ~ .*\\.(jsp|do|action) {\n",
    "    proxy_pass http://tomcats;        #tomcats是后面的tomcat服务器组的逻辑组号\n",
    "    }\n",
    "}\n",
    "```"
   ]
  }
 ],
 "metadata": {
  "kernelspec": {
   "display_name": "Python 3",
   "language": "python",
   "name": "python3"
  },
  "language_info": {
   "codemirror_mode": {
    "name": "ipython",
    "version": 3
   },
   "file_extension": ".py",
   "mimetype": "text/x-python",
   "name": "python",
   "nbconvert_exporter": "python",
   "pygments_lexer": "ipython3",
   "version": "3.7.2"
  },
  "toc": {
   "base_numbering": 1,
   "nav_menu": {},
   "number_sections": true,
   "sideBar": true,
   "skip_h1_title": false,
   "title_cell": "Table of Contents",
   "title_sidebar": "Contents",
   "toc_cell": false,
   "toc_position": {},
   "toc_section_display": true,
   "toc_window_display": true
  }
 },
 "nbformat": 4,
 "nbformat_minor": 2
}
