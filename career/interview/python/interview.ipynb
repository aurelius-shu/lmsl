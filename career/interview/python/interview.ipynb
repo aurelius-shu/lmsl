{
 "cells": [
  {
   "cell_type": "markdown",
   "metadata": {},
   "source": [
    "# Python 基础"
   ]
  },
  {
   "cell_type": "markdown",
   "metadata": {},
   "source": [
    "## 1. 读取操作内存大小的文件"
   ]
  },
  {
   "cell_type": "code",
   "execution_count": 4,
   "metadata": {},
   "outputs": [
    {
     "name": "stdout",
     "output_type": "stream",
     "text": [
      "{\n",
      "\n",
      " \"cells\": [\n",
      "\n",
      "  {\n",
      "\n",
      "   \"cell_type\": \"markdown\",\n",
      "\n",
      "   \"metadata\": {},\n",
      "\n",
      "   \"source\": [\n",
      "\n",
      "    \"# pip\"\n",
      "\n",
      "   ]\n",
      "\n",
      "  },\n",
      "\n",
      "  {\n",
      "\n",
      "   \"cell_type\": \"markdown\",\n",
      "\n",
      "   \"metadata\": {},\n",
      "\n",
      "   \"source\": [\n",
      "\n",
      "    \"## requirements\\n\",\n",
      "\n",
      "    \"\\n\",\n",
      "\n",
      "    \"``` bash\\n\",\n",
      "\n",
      "    \"# 1. 在项目中分析出所有依赖的库\\n\",\n",
      "\n",
      "    \"pip freeze > requirements.txt\\n\",\n",
      "\n",
      "    \"# 2. 下载包到DIR这个目录中\\n\",\n",
      "\n",
      "    \"pip download -d DIR -r requirements.txt\\n\",\n",
      "\n",
      "    \"pip wheel -w DIR -r requirements.txt\\n\",\n",
      "\n",
      "    \"# 3. 离线安装\\n\",\n",
      "\n",
      "    \"pip3 install --no-index --find-links=DIR -r requirements.txt\\n\",\n",
      "\n",
      "    \"# 4. 直接安装 requirements.txt\\n\",\n",
      "\n",
      "    \"pip install -r requirements.txt\\n\",\n",
      "\n",
      "    \"```\\n\"\n",
      "\n",
      "   ]\n",
      "\n",
      "  },\n",
      "\n",
      "  {\n",
      "\n",
      "   \"cell_type\": \"markdown\",\n",
      "\n",
      "   \"metadata\": {},\n",
      "\n",
      "   \"source\": [\n",
      "\n",
      "    \"## pip 镜像\\n\",\n",
      "\n",
      "    \"\\n\",\n",
      "\n",
      "    \"**修改 C:\\\\Users\\\\Administrator\\\\AppData\\\\Roaming\\\\pip\\\\pip.ini**\\n\",\n",
      "\n",
      "    \"```\\n\",\n",
      "\n",
      "    \"[global]\\n\",\n",
      "\n",
      "    \"timeout = 60000\\n\",\n",
      "\n",
      "    \"index-url = https://pypi.tuna.tsinghua.edu.cn/simple\\n\",\n",
      "\n",
      "    \"[install]\\n\",\n",
      "\n",
      "    \"use-mirrors = true\\n\",\n",
      "\n",
      "    \"mirrors = https://pypi.tuna.tsinghua.edu.cn\\n\",\n",
      "\n",
      "    \"```\"\n",
      "\n",
      "   ]\n",
      "\n",
      "  },\n",
      "\n",
      "  {\n",
      "\n",
      "   \"cell_type\": \"markdown\",\n",
      "\n",
      "   \"metadata\": {},\n",
      "\n",
      "   \"source\": []\n",
      "\n",
      "  }\n",
      "\n",
      " ],\n",
      "\n",
      " \"metadata\": {\n",
      "\n",
      "  \"kernelspec\": {\n",
      "\n",
      "   \"display_name\": \"Python 3\",\n",
      "\n",
      "   \"language\": \"python\",\n",
      "\n",
      "   \"name\": \"python3\"\n",
      "\n",
      "  },\n",
      "\n",
      "  \"language_info\": {\n",
      "\n",
      "   \"codemirror_mode\": {\n",
      "\n",
      "    \"name\": \"ipython\",\n",
      "\n",
      "    \"version\": 3\n",
      "\n",
      "   },\n",
      "\n",
      "   \"file_extension\": \".py\",\n",
      "\n",
      "   \"mimetype\": \"text/x-python\",\n",
      "\n",
      "   \"name\": \"python\",\n",
      "\n",
      "   \"nbconvert_exporter\": \"python\",\n",
      "\n",
      "   \"pygments_lexer\": \"ipython3\",\n",
      "\n",
      "   \"version\": \"3.8.5\"\n",
      "\n",
      "  },\n",
      "\n",
      "  \"toc\": {\n",
      "\n",
      "   \"base_numbering\": 1,\n",
      "\n",
      "   \"nav_menu\": {},\n",
      "\n",
      "   \"number_sections\": true,\n",
      "\n",
      "   \"sideBar\": true,\n",
      "\n",
      "   \"skip_h1_title\": false,\n",
      "\n",
      "   \"title_cell\": \"Table of Contents\",\n",
      "\n",
      "   \"title_sidebar\": \"Contents\",\n",
      "\n",
      "   \"toc_cell\": false,\n",
      "\n",
      "   \"toc_position\": {},\n",
      "\n",
      "   \"toc_section_display\": true,\n",
      "\n",
      "   \"toc_window_display\": true\n",
      "\n",
      "  }\n",
      "\n",
      " },\n",
      "\n",
      " \"nbformat\": 4,\n",
      "\n",
      " \"nbformat_minor\": 2\n",
      "\n",
      "}\n",
      "\n"
     ]
    }
   ],
   "source": [
    "from mmap import mmap\n",
    "\n",
    "\n",
    "def get_lines(fp):\n",
    "    with open(fp, 'r+') as f:\n",
    "        m = mmap(f.fileno(), 0)\n",
    "        tmp = 0\n",
    "        for i, char in enumerate(m):\n",
    "            if char == b'\\n':\n",
    "                yield m[tmp:i + 1].decode()\n",
    "                tmp = i + 1\n",
    "\n",
    "\n",
    "if __name__ == \"__main__\":\n",
    "    for i in get_lines(r'D:\\WorkSpace\\notebook\\python\\pip.ipynb'):\n",
    "        print(i)"
   ]
  },
  {
   "cell_type": "markdown",
   "metadata": {},
   "source": [
    "## 2. 读取路径下所有文件全路径"
   ]
  },
  {
   "cell_type": "code",
   "execution_count": 6,
   "metadata": {},
   "outputs": [
    {
     "name": "stdout",
     "output_type": "stream",
     "text": [
      "D:\\WorkSpace\\notebook\\database\\00 - 异常记录.md\n",
      "D:\\WorkSpace\\notebook\\database\\mysql.ipynb\n",
      "D:\\WorkSpace\\notebook\\database\\oracle.ipynb\n",
      "D:\\WorkSpace\\notebook\\database\\redis.ipynb\n",
      "D:\\WorkSpace\\notebook\\database\\sqls.ipynb\n",
      "D:\\WorkSpace\\notebook\\database\\sqlserver.ipynb\n"
     ]
    }
   ],
   "source": [
    "def print_directory_contents(sPath):\n",
    "    \"\"\"\n",
    "    这个函数接收文件夹的名称作为输入参数\n",
    "    返回该文件夹中文件的路径\n",
    "    以及其包含文件夹中文件的路径\n",
    "    \"\"\"\n",
    "    import os\n",
    "    for s_childs in os.listdir(sPath):\n",
    "        s_child_path = os.path.join(sPath, s_childs)\n",
    "        if os.path.isdir(s_child_path):\n",
    "            print_directory_contents(s_child_path)\n",
    "        else:\n",
    "            print(s_child_path)\n",
    "\n",
    "\n",
    "if __name__ == \"__main__\":\n",
    "    print_directory_contents(r\"D:\\WorkSpace\\notebook\\database\")"
   ]
  },
  {
   "cell_type": "markdown",
   "metadata": {},
   "source": [
    "## 3. 读取日期所在年的天"
   ]
  },
  {
   "cell_type": "code",
   "execution_count": 7,
   "metadata": {},
   "outputs": [
    {
     "name": "stdout",
     "output_type": "stream",
     "text": [
      "298\n"
     ]
    }
   ],
   "source": [
    "from datetime import date\n",
    "\n",
    "\n",
    "def dayofyear():\n",
    "    year = input(\"输入年份:\")\n",
    "    month = input(\"输入月份:\")\n",
    "    day = input(\"输入天:\")\n",
    "    date1 = date(year=int(year), month=int(month), day=int(day))\n",
    "    date2 = date(year=int(year), month=1, day=1)\n",
    "    return (date1 - date2).days + 1\n",
    "\n",
    "\n",
    "if __name__ == \"__main__\":\n",
    "    print(dayofyear())"
   ]
  },
  {
   "cell_type": "markdown",
   "metadata": {},
   "source": [
    "## 4. 打乱一个list"
   ]
  },
  {
   "cell_type": "code",
   "execution_count": 8,
   "metadata": {},
   "outputs": [
    {
     "name": "stdout",
     "output_type": "stream",
     "text": [
      "[3, 2, 1, 5, 4]\n"
     ]
    }
   ],
   "source": [
    "import random\n",
    "alist = [1, 2, 3, 4, 5]\n",
    "random.shuffle(alist)\n",
    "print(alist)"
   ]
  },
  {
   "cell_type": "markdown",
   "metadata": {},
   "source": [
    "## 5. 按 dict 的 value 排序"
   ]
  },
  {
   "cell_type": "code",
   "execution_count": 1,
   "metadata": {},
   "outputs": [
    {
     "data": {
      "text/plain": [
       "[('i', 12), ('a', 24), ('k', 33), ('g', 52)]"
      ]
     },
     "execution_count": 1,
     "metadata": {},
     "output_type": "execute_result"
    }
   ],
   "source": [
    "d = {'a': 24, 'g': 52, 'i': 12, 'k': 33}\n",
    "sorted(d.items(), key=lambda x: x[1])"
   ]
  },
  {
   "cell_type": "markdown",
   "metadata": {},
   "source": [
    "## 6. 字典推导式"
   ]
  },
  {
   "cell_type": "code",
   "execution_count": 3,
   "metadata": {},
   "outputs": [
    {
     "data": {
      "text/plain": [
       "{'a': 1, 'b': 2}"
      ]
     },
     "execution_count": 3,
     "metadata": {},
     "output_type": "execute_result"
    }
   ],
   "source": [
    "iterable = [('a', 1), ('b', 2)]\n",
    "d = {key: value for (key, value) in iterable}\n",
    "d"
   ]
  },
  {
   "cell_type": "markdown",
   "metadata": {},
   "source": [
    "## 7. 反转字符串"
   ]
  },
  {
   "cell_type": "code",
   "execution_count": 4,
   "metadata": {},
   "outputs": [
    {
     "data": {
      "text/plain": [
       "'rtSa'"
      ]
     },
     "execution_count": 4,
     "metadata": {},
     "output_type": "execute_result"
    }
   ],
   "source": [
    "'aStr'[::-1]"
   ]
  },
  {
   "cell_type": "markdown",
   "metadata": {},
   "source": [
    "## 8. 字符串转字典"
   ]
  },
  {
   "cell_type": "code",
   "execution_count": 9,
   "metadata": {},
   "outputs": [
    {
     "name": "stdout",
     "output_type": "stream",
     "text": [
      "{'k': 1, 'k1': 2, 'k2': 3, 'k3': 4}\n",
      "{'k': 1, 'k1': 2, 'k2': 3, 'k3': 4}\n"
     ]
    }
   ],
   "source": [
    "str1 = 'k:1|k1:2|k2:3|k3:4'\n",
    "\n",
    "\n",
    "def str2dict(str1):\n",
    "    dict1 = {}\n",
    "    for items in str1.split('|'):\n",
    "        key, value = items.split(':')\n",
    "        dict1[key] = int(value)\n",
    "    return dict1\n",
    "\n",
    "\n",
    "d = str2dict(str1)\n",
    "print(d)\n",
    "\n",
    "d = {k: int(v) for t in str1.split('|') for k, v in (t.split(':'), )}\n",
    "print(d)"
   ]
  },
  {
   "cell_type": "markdown",
   "metadata": {},
   "source": [
    "## 9. list 按元素属性大小排序"
   ]
  },
  {
   "cell_type": "code",
   "execution_count": 10,
   "metadata": {},
   "outputs": [
    {
     "name": "stdout",
     "output_type": "stream",
     "text": [
      "[{'name': 'b', 'age': 30}, {'name': 'c', 'age': 25}, {'name': 'a', 'age': 20}]\n"
     ]
    }
   ],
   "source": [
    "alist = [{\n",
    "    'name': 'a',\n",
    "    'age': 20\n",
    "}, {\n",
    "    'name': 'b',\n",
    "    'age': 30\n",
    "}, {\n",
    "    'name': 'c',\n",
    "    'age': 25\n",
    "}]\n",
    "\n",
    "\n",
    "def sort_by_age(l):\n",
    "    return sorted(alist, key=lambda x: x['age'], reverse=True)\n",
    "\n",
    "\n",
    "print(sort_by_age(alist))"
   ]
  },
  {
   "cell_type": "markdown",
   "metadata": {},
   "source": [
    "## 10. 切片"
   ]
  },
  {
   "cell_type": "code",
   "execution_count": 12,
   "metadata": {},
   "outputs": [
    {
     "data": {
      "text/plain": [
       "[]"
      ]
     },
     "execution_count": 12,
     "metadata": {},
     "output_type": "execute_result"
    }
   ],
   "source": [
    "l = ['a', 'b', 'c', 'd', 'e']\n",
    "l[10:]"
   ]
  },
  {
   "cell_type": "markdown",
   "metadata": {},
   "source": [
    "## 11. 生成一个公差为 11 的等差数列列表生成式"
   ]
  },
  {
   "cell_type": "code",
   "execution_count": 13,
   "metadata": {},
   "outputs": [
    {
     "data": {
      "text/plain": [
       "[0, 11, 22, 33, 44, 55, 66, 77, 88, 99]"
      ]
     },
     "execution_count": 13,
     "metadata": {},
     "output_type": "execute_result"
    }
   ],
   "source": [
    "[x * 11 for x in range(10)]"
   ]
  },
  {
   "cell_type": "markdown",
   "metadata": {},
   "source": [
    "## 12. 两个列表的交集和差集"
   ]
  },
  {
   "cell_type": "code",
   "execution_count": 15,
   "metadata": {},
   "outputs": [
    {
     "name": "stdout",
     "output_type": "stream",
     "text": [
      "{3}\n",
      "{1, 2, 4, 5}\n"
     ]
    }
   ],
   "source": [
    "list1 = [1, 2, 3]\n",
    "list2 = [3, 4, 5]\n",
    "set1 = set(list1)\n",
    "set2 = set(list2)\n",
    "print(set1 & set2)\n",
    "print(set1 ^ set2)"
   ]
  },
  {
   "cell_type": "markdown",
   "metadata": {},
   "source": [
    "## 13. 删除list 中的重复元素，保持原顺序"
   ]
  },
  {
   "cell_type": "code",
   "execution_count": 20,
   "metadata": {},
   "outputs": [
    {
     "data": {
      "text/plain": [
       "['b', 'c', 'd', 'a']"
      ]
     },
     "execution_count": 20,
     "metadata": {},
     "output_type": "execute_result"
    }
   ],
   "source": [
    "l1 = ['b', 'c', 'd', 'c', 'a', 'a']\n",
    "\n",
    "sorted(set(l1), key=l1.index)"
   ]
  },
  {
   "cell_type": "markdown",
   "metadata": {},
   "source": [
    "## 17. python 单例模式"
   ]
  },
  {
   "cell_type": "code",
   "execution_count": 1,
   "metadata": {},
   "outputs": [
    {
     "name": "stdout",
     "output_type": "stream",
     "text": [
      "True\n"
     ]
    }
   ],
   "source": [
    "# 使用装饰器\n",
    "def singleton(cls):\n",
    "    instances = {}\n",
    "\n",
    "    def wrapper(*args, **kwargs):\n",
    "        if cls not in instances:\n",
    "            instances[cls] = cls(*args, **kwargs)\n",
    "        return instances[cls]\n",
    "\n",
    "    return wrapper\n",
    "\n",
    "\n",
    "@singleton\n",
    "class Foo(object):\n",
    "    pass\n",
    "\n",
    "\n",
    "foo1 = Foo()\n",
    "foo2 = Foo()\n",
    "print(foo1 is foo2)"
   ]
  },
  {
   "cell_type": "code",
   "execution_count": 2,
   "metadata": {},
   "outputs": [
    {
     "name": "stdout",
     "output_type": "stream",
     "text": [
      "True\n"
     ]
    }
   ],
   "source": [
    "# 使用基类\n",
    "class Singleton(object):\n",
    "    def __new__(cls, *args, **kwargs):\n",
    "        if not hasattr(cls, '_instance'):\n",
    "            cls._instance = super(Singleton, cls).__new__(cls, *args, **kwargs)\n",
    "        return cls._instance\n",
    "\n",
    "\n",
    "class Foo(Singleton):\n",
    "    pass\n",
    "\n",
    "\n",
    "foo1 = Foo()\n",
    "foo2 = Foo()\n",
    "print(foo1 is foo2)"
   ]
  },
  {
   "cell_type": "code",
   "execution_count": 3,
   "metadata": {},
   "outputs": [
    {
     "name": "stdout",
     "output_type": "stream",
     "text": [
      "True\n"
     ]
    }
   ],
   "source": [
    "# 使用元类\n",
    "class Singleton(type):\n",
    "    def __call__(cls, *args, **kwargs):\n",
    "        if not hasattr(cls, '_instance'):\n",
    "            cls._instance = super(Singleton, cls).__call__(*args, **kwargs)\n",
    "        return cls._instance\n",
    "\n",
    "\n",
    "# python2\n",
    "# class Foo(object):\n",
    "#     __metaclass__ = Singleton\n",
    "\n",
    "\n",
    "class Foo(metaclass=Singleton):\n",
    "    pass\n",
    "\n",
    "\n",
    "foo1 = Foo()\n",
    "foo2 = Foo()\n",
    "print(foo1 is foo2)"
   ]
  },
  {
   "cell_type": "markdown",
   "metadata": {},
   "source": [
    "## 18. 反转一个整数"
   ]
  },
  {
   "cell_type": "code",
   "execution_count": 4,
   "metadata": {},
   "outputs": [
    {
     "name": "stdout",
     "output_type": "stream",
     "text": [
      "-21\n"
     ]
    }
   ],
   "source": [
    "class Solution(object):\n",
    "    def reverse(self, x):\n",
    "        if -10 < x < 10:\n",
    "            return x\n",
    "        str_x = str(x)\n",
    "        if str_x[0] != '-':\n",
    "            str_x = str_x[::-1]\n",
    "            x = int(str_x)\n",
    "        else:\n",
    "            str_x = str_x[1:][::-1]\n",
    "            x = int(str_x)\n",
    "            x = -x\n",
    "        return x if -2147483648 < x < 2147483647 else 0\n",
    "\n",
    "\n",
    "s = Solution()\n",
    "reverse_int = s.reverse(-120)\n",
    "print(reverse_int)"
   ]
  },
  {
   "cell_type": "markdown",
   "metadata": {},
   "source": [
    "## 19. 遍历目录，找到 .pyc 文件"
   ]
  },
  {
   "cell_type": "code",
   "execution_count": 2,
   "metadata": {},
   "outputs": [
    {
     "name": "stdout",
     "output_type": "stream",
     "text": [
      "[]\n"
     ]
    }
   ],
   "source": [
    "# os.walk\n",
    "import os\n",
    "\n",
    "\n",
    "def get_files(dir, suffix):\n",
    "    res = []\n",
    "    for root, dirs, files in os.walk(dir):\n",
    "        for filename in files:\n",
    "            name, suf = os.path.splitext(filename)\n",
    "            if suf == suffix:\n",
    "                res.append(os.path.join(root, filename))\n",
    "    print(res)\n",
    "\n",
    "\n",
    "get_files('./..', '.pyc')"
   ]
  },
  {
   "cell_type": "code",
   "execution_count": 5,
   "metadata": {},
   "outputs": [
    {
     "name": "stdout",
     "output_type": "stream",
     "text": [
      "ei_maskkeys.py\n",
      "hc_decode.py\n",
      "hc_depoly.py\n",
      "lic.py\n",
      "uop_test.py\n",
      "useroperation_a.py\n"
     ]
    }
   ],
   "source": [
    "# 使用 recursion\n",
    "import os\n",
    "\n",
    "\n",
    "def pick(obj, suffix):\n",
    "    if obj.endswith(suffix):\n",
    "        print(obj)\n",
    "\n",
    "\n",
    "def scan_path(ph, suffix):\n",
    "    file_list = os.listdir(ph)\n",
    "    for obj in file_list:\n",
    "        if os.path.isfile(os.path.join(ph, obj)):\n",
    "            pick(obj, suffix)\n",
    "        elif os.path.isdir(obj):\n",
    "            scan_path(obj)\n",
    "\n",
    "\n",
    "scan_path(r'D:\\WorkSpace\\notebook\\lab\\udf', '.py')"
   ]
  },
  {
   "cell_type": "code",
   "execution_count": 7,
   "metadata": {},
   "outputs": [
    {
     "name": "stdout",
     "output_type": "stream",
     "text": [
      "D:\\WorkSpace\\notebook\\lab\\udf\\ei_maskkeys.py\n",
      "D:\\WorkSpace\\notebook\\lab\\udf\\hc_decode.py\n",
      "D:\\WorkSpace\\notebook\\lab\\udf\\hc_depoly.py\n",
      "D:\\WorkSpace\\notebook\\lab\\udf\\lic.py\n",
      "D:\\WorkSpace\\notebook\\lab\\udf\\uop_test.py\n",
      "D:\\WorkSpace\\notebook\\lab\\udf\\useroperation_a.py\n"
     ]
    }
   ],
   "source": [
    "# 使用 glob.iglob\n",
    "from glob import iglob\n",
    "\n",
    "\n",
    "def func(fp, suffix):\n",
    "    for i in iglob(f'{fp}/**/*{suffix}', recursive=True):\n",
    "        print(i)\n",
    "\n",
    "\n",
    "func(r'D:\\WorkSpace\\notebook\\lab\\udf', '.py')"
   ]
  },
  {
   "cell_type": "markdown",
   "metadata": {},
   "source": [
    "## 20. 一行代码求 1-100 的和"
   ]
  },
  {
   "cell_type": "code",
   "execution_count": 9,
   "metadata": {},
   "outputs": [
    {
     "data": {
      "text/plain": [
       "5050"
      ]
     },
     "execution_count": 9,
     "metadata": {},
     "output_type": "execute_result"
    }
   ],
   "source": [
    "sum(range(1, 101))"
   ]
  },
  {
   "cell_type": "markdown",
   "metadata": {},
   "source": [
    "## 21 过滤 list"
   ]
  },
  {
   "cell_type": "code",
   "execution_count": 13,
   "metadata": {},
   "outputs": [
    {
     "name": "stdout",
     "output_type": "stream",
     "text": [
      "[6, 7, 8]\n",
      "[6, 7, 8]\n",
      "2283469873216\n",
      "2283469873216\n",
      "[6, 7, 8]\n"
     ]
    }
   ],
   "source": [
    "a = [1, 2, 3, 4, 5, 6, 7, 8]\n",
    "\n",
    "#filter\n",
    "b = filter(lambda x: x > 5, a)\n",
    "print(list(b))\n",
    "\n",
    "# generater\n",
    "b = [x for x in a if x > 5]\n",
    "print(b)\n",
    "\n",
    "# reverse\n",
    "print(id(a))\n",
    "for i in range(len(a) - 1, -1, -1):\n",
    "    if a[i] <= 5:\n",
    "        a.remove(a[i])\n",
    "print(id(a))\n",
    "print(a)"
   ]
  },
  {
   "cell_type": "markdown",
   "metadata": {},
   "source": [
    "## 22. 缺失的英文字符"
   ]
  },
  {
   "cell_type": "code",
   "execution_count": 2,
   "metadata": {},
   "outputs": [
    {
     "data": {
      "text/plain": [
       "'abcdefgijklmqrsuvwxz'"
      ]
     },
     "execution_count": 2,
     "metadata": {},
     "output_type": "execute_result"
    }
   ],
   "source": [
    "def get_missing_letter(a):\n",
    "    import string\n",
    "    letters = string.ascii_lowercase\n",
    "\n",
    "    letters = ''.join(map(chr, range(ord('a'), ord('z') + 1)))\n",
    "\n",
    "    letters = set('abcdefghijklmnopqrstuvwxyz')\n",
    "    letters_a = set(a.lower())\n",
    "    res = ''.join(sorted(letters - letters_a))\n",
    "    return res\n",
    "\n",
    "\n",
    "get_missing_letter('python')"
   ]
  },
  {
   "cell_type": "markdown",
   "metadata": {},
   "source": [
    "## 25. 求列表中的所有奇数"
   ]
  },
  {
   "cell_type": "code",
   "execution_count": 1,
   "metadata": {},
   "outputs": [
    {
     "data": {
      "text/plain": [
       "[1, 3, 5, 7, 9]"
      ]
     },
     "execution_count": 1,
     "metadata": {},
     "output_type": "execute_result"
    }
   ],
   "source": [
    "a = [1, 2, 3, 4, 5, 6, 7, 8, 9, 10]\n",
    "[x for x in a if x % 2 == 1]"
   ]
  },
  {
   "cell_type": "markdown",
   "metadata": {},
   "source": [
    "## 26. 一行代码求和"
   ]
  },
  {
   "cell_type": "code",
   "execution_count": 2,
   "metadata": {},
   "outputs": [
    {
     "data": {
      "text/plain": [
       "10254"
      ]
     },
     "execution_count": 2,
     "metadata": {},
     "output_type": "execute_result"
    }
   ],
   "source": [
    "from functools import reduce\n",
    "reduce(lambda x, y: x + y, [1, 2, 3, 10248])"
   ]
  },
  {
   "cell_type": "code",
   "execution_count": 4,
   "metadata": {},
   "outputs": [
    {
     "data": {
      "text/plain": [
       "10254"
      ]
     },
     "execution_count": 4,
     "metadata": {},
     "output_type": "execute_result"
    }
   ],
   "source": [
    "sum([1, 2, 3, 10248])"
   ]
  },
  {
   "cell_type": "markdown",
   "metadata": {},
   "source": [
    "## 28. string 转 int"
   ]
  },
  {
   "cell_type": "code",
   "execution_count": 7,
   "metadata": {},
   "outputs": [
    {
     "data": {
      "text/plain": [
       "123"
      ]
     },
     "execution_count": 7,
     "metadata": {},
     "output_type": "execute_result"
    }
   ],
   "source": [
    "# str\n",
    "def atoi(s):\n",
    "    num = 0\n",
    "    for v in s:\n",
    "        for n in range(10):\n",
    "            if v == str(n):\n",
    "                num = num * 10 + n\n",
    "    return num\n",
    "\n",
    "\n",
    "atoi('123')"
   ]
  },
  {
   "cell_type": "code",
   "execution_count": 8,
   "metadata": {},
   "outputs": [
    {
     "data": {
      "text/plain": [
       "123"
      ]
     },
     "execution_count": 8,
     "metadata": {},
     "output_type": "execute_result"
    }
   ],
   "source": [
    "# ord\n",
    "def atoi(s):\n",
    "    num = 0\n",
    "    for v in s:\n",
    "        num = num * 10 + ord(v) - ord('0')\n",
    "    return num\n",
    "\n",
    "\n",
    "atoi('123')"
   ]
  },
  {
   "cell_type": "code",
   "execution_count": 9,
   "metadata": {},
   "outputs": [
    {
     "data": {
      "text/plain": [
       "123"
      ]
     },
     "execution_count": 9,
     "metadata": {},
     "output_type": "execute_result"
    }
   ],
   "source": [
    "# eval\n",
    "def atoi(s):\n",
    "    num = 0\n",
    "    for v in s:\n",
    "        num = num * 10 + eval(f'{v}')\n",
    "    return num\n",
    "\n",
    "\n",
    "atoi('123')"
   ]
  },
  {
   "cell_type": "code",
   "execution_count": 2,
   "metadata": {},
   "outputs": [
    {
     "data": {
      "text/plain": [
       "123"
      ]
     },
     "execution_count": 2,
     "metadata": {},
     "output_type": "execute_result"
    }
   ],
   "source": [
    "# reduce + ord\n",
    "from functools import reduce\n",
    "\n",
    "\n",
    "def atoi(s):\n",
    "    return reduce(lambda num, v: num * 10 + ord(v) - ord('0'), s, 0)\n",
    "\n",
    "\n",
    "atoi('123')"
   ]
  },
  {
   "cell_type": "markdown",
   "metadata": {},
   "source": [
    "## 29. 找出数组中和为目标值的两个数"
   ]
  },
  {
   "cell_type": "code",
   "execution_count": 1,
   "metadata": {},
   "outputs": [
    {
     "name": "stdout",
     "output_type": "stream",
     "text": [
      "[0, 1]\n"
     ]
    }
   ],
   "source": [
    "class Solution(object):\n",
    "    def twoSum(self, nums, target):\n",
    "        d = {}\n",
    "        size = 0\n",
    "        while size < len(nums):\n",
    "            if target - nums[size] in d:\n",
    "                if d[target - nums[size]] < size:\n",
    "                    return [d[target - nums[size]], size]\n",
    "            else:\n",
    "                d[nums[size]] = size\n",
    "            size += 1\n",
    "\n",
    "\n",
    "solution = Solution()\n",
    "print(solution.twoSum([2, 7, 11, 15], 9))"
   ]
  },
  {
   "cell_type": "code",
   "execution_count": 2,
   "metadata": {},
   "outputs": [
    {
     "name": "stdout",
     "output_type": "stream",
     "text": [
      "[0, 2]\n"
     ]
    }
   ],
   "source": [
    "class Solution(object):\n",
    "    def twoSum(self, nums, target):\n",
    "        for i in range(len(nums)):\n",
    "            if target - nums[i] in nums[i + 1:]:\n",
    "                return [i, nums.index(target - nums[i], i + 1)]\n",
    "\n",
    "\n",
    "solution = Solution()\n",
    "print(solution.twoSum([2, 7, 11, 15], 13))"
   ]
  },
  {
   "cell_type": "code",
   "execution_count": 4,
   "metadata": {},
   "outputs": [
    {
     "data": {
      "text/plain": [
       "[{'name': 'b', 'age': 30}, {'name': 'c', 'age': 25}, {'name': 'a', 'age': 20}]"
      ]
     },
     "execution_count": 4,
     "metadata": {},
     "output_type": "execute_result"
    }
   ],
   "source": [
    "alist = [{\n",
    "    \"name\": \"a\",\n",
    "    \"age\": 20\n",
    "}, {\n",
    "    \"name\": \"b\",\n",
    "    \"age\": 30\n",
    "}, {\n",
    "    \"name\": \"c\",\n",
    "    \"age\": 25\n",
    "}]\n",
    "sorted(alist, key=lambda e: e.__getitem__('age'), reverse=True)"
   ]
  },
  {
   "cell_type": "markdown",
   "metadata": {},
   "source": [
    "## 30. 删除一个 list 里面的重复元素"
   ]
  },
  {
   "cell_type": "code",
   "execution_count": 5,
   "metadata": {},
   "outputs": [
    {
     "name": "stdout",
     "output_type": "stream",
     "text": [
      "[0, 1, 2, 3, 4, 5, 7, 8, 9, 10]\n",
      "[1, 2, 4, 5, 7, 10, 8, 9, 0, 3]\n"
     ]
    }
   ],
   "source": [
    "a = [1, 2, 4, 2, 4, 5, 7, 10, 5, 5, 7, 8, 9, 0, 3]\n",
    "print(list(set(a)))\n",
    "b = {}\n",
    "print(list(b.fromkeys(a).keys()))"
   ]
  },
  {
   "cell_type": "markdown",
   "metadata": {},
   "source": [
    "## 31. 统计文本中词频最高的 10 个单词"
   ]
  },
  {
   "cell_type": "code",
   "execution_count": 9,
   "metadata": {},
   "outputs": [
    {
     "name": "stdout",
     "output_type": "stream",
     "text": [
      "['print', 'size', 'os', 'suffix', 'obj', 'nums', 'def', 'in', 'path', 'if']\n"
     ]
    }
   ],
   "source": [
    "# using re\n",
    "import re\n",
    "\n",
    "\n",
    "def statistics(filePath):\n",
    "\n",
    "    distone = {}\n",
    "    with open(filePath) as f:\n",
    "        for line in f:\n",
    "            line = re.sub('\\W+', ' ', line)\n",
    "            lineone = line.split()\n",
    "            for keyone in lineone:\n",
    "                if not distone.get(keyone):\n",
    "                    distone[keyone] = 1\n",
    "                else:\n",
    "                    distone[keyone] += 1\n",
    "\n",
    "    num_ten = sorted(distone.items(), key=lambda x: x[1], reverse=True)[:10]\n",
    "    return [x[0] for x in num_ten]\n",
    "\n",
    "\n",
    "print(statistics(r'D:\\WorkSpace\\notebook\\lab\\interview\\19.get_files.py'))"
   ]
  },
  {
   "cell_type": "code",
   "execution_count": 10,
   "metadata": {},
   "outputs": [
    {
     "name": "stdout",
     "output_type": "stream",
     "text": [
      "['print', 'size', 'os', 'suffix', 'obj', 'nums', 'def', 'in', 'path', 'if']\n"
     ]
    }
   ],
   "source": [
    "# using collections.Counter\n",
    "\n",
    "import re\n",
    "from collections import Counter\n",
    "\n",
    "\n",
    "def statistics(filePath):\n",
    "    with open(filePath) as f:\n",
    "        return list(\n",
    "            map(lambda c: c[0],\n",
    "                Counter(re.sub('\\W+', ' ', f.read()).split()).most_common(10)))\n",
    "\n",
    "\n",
    "print(statistics(r'D:\\WorkSpace\\notebook\\lab\\interview\\19.get_files.py'))"
   ]
  },
  {
   "cell_type": "markdown",
   "metadata": {},
   "source": [
    "## 32. 筛选 list 中偶数位的偶数"
   ]
  },
  {
   "cell_type": "code",
   "execution_count": 11,
   "metadata": {},
   "outputs": [
    {
     "name": "stdout",
     "output_type": "stream",
     "text": [
      "[0, 2, 4, 6, 8, 10]\n"
     ]
    }
   ],
   "source": [
    "def list_filter(nums):\n",
    "    return [i for i in nums if i % 2 == 0 and nums.index(i) % 2 == 0]\n",
    "\n",
    "\n",
    "nums = [0, 1, 2, 3, 4, 5, 6, 7, 8, 9, 10]\n",
    "res = list_filter(nums)\n",
    "print(res)"
   ]
  },
  {
   "cell_type": "markdown",
   "metadata": {},
   "source": [
    "## 33. 使用列表生成式筛选 list 中的偶数位的偶数"
   ]
  },
  {
   "cell_type": "code",
   "execution_count": 12,
   "metadata": {},
   "outputs": [
    {
     "data": {
      "text/plain": [
       "[0, 2, 4, 6, 8, 10]"
      ]
     },
     "execution_count": 12,
     "metadata": {},
     "output_type": "execute_result"
    }
   ],
   "source": [
    "nums = [0, 1, 2, 3, 4, 5, 6, 7, 8, 9, 10]\n",
    "[x for x in nums[::2] if x % 2 == 0]"
   ]
  },
  {
   "cell_type": "markdown",
   "metadata": {},
   "source": [
    "## 34. 一行代码生成 [1,4,9,16,25,36,49,64,81,100]"
   ]
  },
  {
   "cell_type": "code",
   "execution_count": 13,
   "metadata": {},
   "outputs": [
    {
     "data": {
      "text/plain": [
       "[1, 4, 9, 16, 25, 36, 49, 64, 81, 100]"
      ]
     },
     "execution_count": 13,
     "metadata": {},
     "output_type": "execute_result"
    }
   ],
   "source": [
    "[x * x for x in range(1, 11)]"
   ]
  },
  {
   "cell_type": "markdown",
   "metadata": {},
   "source": [
    "## 36. 合并两个有序序列"
   ]
  },
  {
   "cell_type": "code",
   "execution_count": 15,
   "metadata": {},
   "outputs": [
    {
     "data": {
      "text/plain": [
       "[1, 2, 2, 3, 3, 4, 4, 5, 5, 6]"
      ]
     },
     "execution_count": 15,
     "metadata": {},
     "output_type": "execute_result"
    }
   ],
   "source": [
    "def merge_sorted_list(l1, l2):\n",
    "    tmp = []\n",
    "    while len(l1) > 0 and len(l2) > 0:\n",
    "        if l1[0] < l2[0]:\n",
    "            tmp.append(l1[0])\n",
    "            del l1[0]\n",
    "        else:\n",
    "            tmp.append(l2[0])\n",
    "            del l2[0]\n",
    "    while len(l1) > 0:\n",
    "        tmp.append(l1[0])\n",
    "        del l1[0]\n",
    "    while len(l2) > 0:\n",
    "        tmp.append(l2[0])\n",
    "        del l2[0]\n",
    "    return tmp\n",
    "\n",
    "\n",
    "merge_sorted_list([1, 2, 3, 4, 5], [2, 3, 4, 5, 6])"
   ]
  },
  {
   "cell_type": "markdown",
   "metadata": {},
   "source": [
    "## 37. 数组重新排列，奇数升序在前，偶数降序在后"
   ]
  },
  {
   "cell_type": "code",
   "execution_count": 22,
   "metadata": {},
   "outputs": [
    {
     "data": {
      "text/plain": [
       "'1355798642'"
      ]
     },
     "execution_count": 22,
     "metadata": {},
     "output_type": "execute_result"
    }
   ],
   "source": [
    "# using insert & pop\n",
    "def func1(nums):\n",
    "    if isinstance(nums, str):\n",
    "        nums = [int(i) for i in nums]\n",
    "    nums.sort(reverse=True)\n",
    "    for i in range(len(nums)):\n",
    "        if nums[i] % 2 > 0:\n",
    "            nums.insert(0, nums.pop(i))\n",
    "    return ''.join(str(x) for x in nums)\n",
    "\n",
    "\n",
    "func1('1982376455')"
   ]
  },
  {
   "cell_type": "code",
   "execution_count": 24,
   "metadata": {},
   "outputs": [
    {
     "data": {
      "text/plain": [
       "'1355798642'"
      ]
     },
     "execution_count": 24,
     "metadata": {},
     "output_type": "execute_result"
    }
   ],
   "source": [
    "# using sorted\n",
    "def func2(nums):\n",
    "    return ''.join(\n",
    "        sorted(nums, key=lambda x: int(x) % 2 == 0 and 20 - int(x) or int(x)))\n",
    "\n",
    "\n",
    "func2('1982376455')"
   ]
  },
  {
   "cell_type": "markdown",
   "metadata": {},
   "source": [
    "## 38. 找出整数数组中第二大的数"
   ]
  },
  {
   "cell_type": "code",
   "execution_count": 27,
   "metadata": {},
   "outputs": [
    {
     "data": {
      "text/plain": [
       "56"
      ]
     },
     "execution_count": 27,
     "metadata": {},
     "output_type": "execute_result"
    }
   ],
   "source": [
    "def find_second_large_num(nums):\n",
    "    sorted_nums = sorted(nums, reverse=True)\n",
    "    return sorted_nums[1]\n",
    "\n",
    "\n",
    "find_second_large_num([34, 11, 23, 56, 78, 0, 9, 12, 3, 7, 5])"
   ]
  },
  {
   "cell_type": "code",
   "execution_count": 28,
   "metadata": {},
   "outputs": [
    {
     "data": {
      "text/plain": [
       "56"
      ]
     },
     "execution_count": 28,
     "metadata": {},
     "output_type": "execute_result"
    }
   ],
   "source": [
    "def find_second_large_num(nums):\n",
    "    one, two = nums[0], nums[0]\n",
    "    for i in range(1, len(nums)):\n",
    "        if nums[i] > one:\n",
    "            two = one\n",
    "            one = nums[i]\n",
    "        elif nums[i] > two:\n",
    "            two = nums[i]\n",
    "    return two\n",
    "\n",
    "\n",
    "find_second_large_num([34, 11, 23, 56, 78, 0, 9, 12, 3, 7, 5])"
   ]
  },
  {
   "cell_type": "code",
   "execution_count": 30,
   "metadata": {},
   "outputs": [
    {
     "data": {
      "text/plain": [
       "56"
      ]
     },
     "execution_count": 30,
     "metadata": {},
     "output_type": "execute_result"
    }
   ],
   "source": [
    "# using reduce & and、or\n",
    "from functools import reduce\n",
    "\n",
    "\n",
    "def find_second_large_num(nums):\n",
    "    return reduce(\n",
    "        lambda ot, x: ot[1] < x and (ot[1], x) or ot[0] < x and\n",
    "        (x, ot[1]) or ot, nums, (0, 0))[0]\n",
    "\n",
    "\n",
    "find_second_large_num([34, 11, 23, 56, 78, 0, 9, 12, 3, 7, 5])"
   ]
  },
  {
   "cell_type": "markdown",
   "metadata": {},
   "source": [
    "## 39. 闭包"
   ]
  },
  {
   "cell_type": "code",
   "execution_count": 33,
   "metadata": {},
   "outputs": [
    {
     "name": "stdout",
     "output_type": "stream",
     "text": [
      "[9, 9, 9, 9]\n"
     ]
    }
   ],
   "source": [
    "def multi():\n",
    "    return [lambda x: i * x for i in range(4)]\n",
    "\n",
    "\n",
    "# 闭包中的标量在内部函数被调用的时候被查找\n",
    "print([m(3) for m in multi()])"
   ]
  },
  {
   "cell_type": "markdown",
   "metadata": {},
   "source": [
    "## 40. 统计一段字符串中字符出现的次数"
   ]
  },
  {
   "cell_type": "code",
   "execution_count": 35,
   "metadata": {},
   "outputs": [
    {
     "data": {
      "text/plain": [
       "{'A': 4, 'B': 2, 'C': 3}"
      ]
     },
     "execution_count": 35,
     "metadata": {},
     "output_type": "execute_result"
    }
   ],
   "source": [
    "def str_counter(data):\n",
    "    dict_str = {}\n",
    "    for i in data:\n",
    "        dict_str[i] = dict_str.get(i, 0) + 1\n",
    "    return dict_str\n",
    "\n",
    "\n",
    "str_counter(\"AAABBCCAC\")"
   ]
  },
  {
   "cell_type": "code",
   "execution_count": 37,
   "metadata": {},
   "outputs": [
    {
     "data": {
      "text/plain": [
       "[('A', 4), ('C', 3), ('B', 2)]"
      ]
     },
     "execution_count": 37,
     "metadata": {},
     "output_type": "execute_result"
    }
   ],
   "source": [
    "from collections import Counter\n",
    "\n",
    "Counter(\"AAABBCCAC\").most_common()"
   ]
  },
  {
   "cell_type": "markdown",
   "metadata": {},
   "source": [
    "## 43. 遍历一个对象的所有属性，打印每个属性名"
   ]
  },
  {
   "cell_type": "code",
   "execution_count": 39,
   "metadata": {},
   "outputs": [
    {
     "name": "stdout",
     "output_type": "stream",
     "text": [
      "['__class__', '__delattr__', '__dict__', '__dir__', '__doc__', '__eq__', '__format__', '__ge__', '__getattribute__', '__gt__', '__hash__', '__init__', '__init_subclass__', '__le__', '__lt__', '__module__', '__ne__', '__new__', '__reduce__', '__reduce_ex__', '__repr__', '__setattr__', '__sizeof__', '__str__', '__subclasshook__', '__weakref__', 'getLoss', 'getName', 'getPrice', 'loss', 'name']\n"
     ]
    }
   ],
   "source": [
    "class Car(object):\n",
    "    def __init__(self, name, loss):\n",
    "        self.name = name\n",
    "        self.loss = loss\n",
    "\n",
    "    def getName(sefl):\n",
    "        return self.name\n",
    "\n",
    "    def getPrice(self):\n",
    "        return self.loss[0]\n",
    "\n",
    "    def getLoss(self):\n",
    "        return self.loss[1] * self.loss[2]\n",
    "\n",
    "\n",
    "bmw = Car('宝马', [60, 9, 500])\n",
    "# print(getattr(bmw, 'name'))\n",
    "\n",
    "print(dir(bmw))"
   ]
  },
  {
   "cell_type": "markdown",
   "metadata": {},
   "source": [
    "## 44. 操作符类"
   ]
  },
  {
   "cell_type": "code",
   "execution_count": 40,
   "metadata": {},
   "outputs": [],
   "source": [
    "class Array(object):\n",
    "    __list = []\n",
    "\n",
    "    def __init__(self):\n",
    "        print('constructor')\n",
    "\n",
    "    def __del__(self):\n",
    "        print('destruct')\n",
    "\n",
    "    def __str__(self):\n",
    "        return 'this self-defind array class'\n",
    "\n",
    "    def __getitem__(self, key):\n",
    "        return self.__list[key]\n",
    "\n",
    "    def __len__(self):\n",
    "        return len(self.__list)\n",
    "\n",
    "    def add(self, value):\n",
    "        self.__list.append(value)\n",
    "\n",
    "    def remove(self, index):\n",
    "        del self.__list[index]\n",
    "\n",
    "    def displayItems(self):\n",
    "        print('show all items')\n",
    "        for item in self.__list:\n",
    "            print(item)"
   ]
  },
  {
   "cell_type": "markdown",
   "metadata": {},
   "source": [
    "## 47. 动态获取和设置对象的属性"
   ]
  },
  {
   "cell_type": "code",
   "execution_count": 45,
   "metadata": {},
   "outputs": [
    {
     "name": "stdout",
     "output_type": "stream",
     "text": [
      "0\n",
      "3\n"
     ]
    }
   ],
   "source": [
    "class Parent(object):\n",
    "    x = 0\n",
    "\n",
    "\n",
    "if hasattr(Parent, 'x'):\n",
    "    print(getattr(Parent, 'x'))\n",
    "    setattr(Parent, 'x', 3)\n",
    "\n",
    "print(getattr(Parent, 'x'))"
   ]
  },
  {
   "cell_type": "markdown",
   "metadata": {},
   "source": [
    "## 57. 判断时间的装饰器"
   ]
  },
  {
   "cell_type": "code",
   "execution_count": 3,
   "metadata": {},
   "outputs": [
    {
     "name": "stdout",
     "output_type": "stream",
     "text": [
      "Hello backbp, 2020 Happy\n"
     ]
    }
   ],
   "source": [
    "from datetime import datetime\n",
    "\n",
    "\n",
    "class TimeException(Exception):\n",
    "    def __init__(self, exception):\n",
    "        super().__init__()\n",
    "        self.exception = exception\n",
    "\n",
    "    def __str__(self):\n",
    "        return self.exception\n",
    "\n",
    "\n",
    "def timecheck(func):\n",
    "    def wrapper(*args, **kwargs):\n",
    "        if datetime.now().year == 2020:\n",
    "            func(*args, **kwargs)\n",
    "        else:\n",
    "            raise TimeException('函数已超时')\n",
    "\n",
    "    return wrapper\n",
    "\n",
    "\n",
    "@timecheck\n",
    "def test(name):\n",
    "    print(f'Hello {name}, 2020 Happy')\n",
    "\n",
    "\n",
    "test('backbp')"
   ]
  },
  {
   "cell_type": "markdown",
   "metadata": {},
   "source": [
    "## 58. filter 的使用"
   ]
  },
  {
   "cell_type": "code",
   "execution_count": 7,
   "metadata": {},
   "outputs": [
    {
     "data": {
      "text/plain": [
       "[0, 2, 4, 6, 8]"
      ]
     },
     "execution_count": 7,
     "metadata": {},
     "output_type": "execute_result"
    }
   ],
   "source": [
    "list(filter(lambda x: x % 2 == 0, range(10)))"
   ]
  },
  {
   "cell_type": "markdown",
   "metadata": {},
   "source": [
    "## 67. 值传递"
   ]
  },
  {
   "cell_type": "code",
   "execution_count": 6,
   "metadata": {},
   "outputs": [
    {
     "data": {
      "text/plain": [
       "[10]"
      ]
     },
     "execution_count": 6,
     "metadata": {},
     "output_type": "execute_result"
    }
   ],
   "source": [
    "a = 10\n",
    "b = 20\n",
    "c = [a]\n",
    "a = 15\n",
    "c"
   ]
  },
  {
   "cell_type": "markdown",
   "metadata": {},
   "source": [
    "## 69. map & reduce"
   ]
  },
  {
   "cell_type": "code",
   "execution_count": 10,
   "metadata": {},
   "outputs": [
    {
     "data": {
      "text/plain": [
       "[1, 4, 9, 16, 25]"
      ]
     },
     "execution_count": 10,
     "metadata": {},
     "output_type": "execute_result"
    }
   ],
   "source": [
    "list(map(lambda x: x * x, [1, 2, 3, 4, 5]))"
   ]
  },
  {
   "cell_type": "code",
   "execution_count": 12,
   "metadata": {},
   "outputs": [
    {
     "data": {
      "text/plain": [
       "24"
      ]
     },
     "execution_count": 12,
     "metadata": {},
     "output_type": "execute_result"
    }
   ],
   "source": [
    "from functools import reduce\n",
    "reduce(lambda x, y: x * y, [1, 2, 3, 4])"
   ]
  },
  {
   "cell_type": "markdown",
   "metadata": {},
   "source": [
    "## 77. 闭包的延迟加载"
   ]
  },
  {
   "cell_type": "code",
   "execution_count": 15,
   "metadata": {},
   "outputs": [
    {
     "name": "stdout",
     "output_type": "stream",
     "text": [
      "[6, 6, 6, 6]\n"
     ]
    }
   ],
   "source": [
    "def mutipliers():\n",
    "    return [lambda x: x * i for i in range(4)]\n",
    "\n",
    "\n",
    "print([m(2) for m in mutipliers()])"
   ]
  },
  {
   "cell_type": "code",
   "execution_count": 16,
   "metadata": {},
   "outputs": [
    {
     "name": "stdout",
     "output_type": "stream",
     "text": [
      "[0, 2, 4, 6]\n"
     ]
    }
   ],
   "source": [
    "def multipliers():\n",
    "    for i in range(4):\n",
    "        yield lambda x: x * i\n",
    "\n",
    "\n",
    "print([m(2) for m in multipliers()])"
   ]
  },
  {
   "source": [
    "## 79. 单例模式"
   ],
   "cell_type": "markdown",
   "metadata": {}
  },
  {
   "cell_type": "code",
   "execution_count": 1,
   "metadata": {},
   "outputs": [],
   "source": [
    "class Singleton(object):\n",
    "    __instance = None\n",
    "\n",
    "    def __new__(cls, *args, **kwargs):\n",
    "        if cls.__instance is None:\n",
    "            cls.__instance = super().__new__(cls, *args, **kwargs)\n",
    "        return cls.__instance"
   ]
  },
  {
   "source": [
    "## 83. 计时装饰器"
   ],
   "cell_type": "markdown",
   "metadata": {}
  },
  {
   "cell_type": "code",
   "execution_count": 7,
   "metadata": {},
   "outputs": [
    {
     "output_type": "stream",
     "name": "stdout",
     "text": [
      "in foo()\n",
      "used: 0:00:05.006940\n"
     ]
    }
   ],
   "source": [
    "from functools import wraps\n",
    "from datetime import datetime\n",
    "import time\n",
    "\n",
    "def timeit(func):\n",
    "    @wraps(func)\n",
    "    def wrapper(*args, **kwargs):\n",
    "        start = datetime.now()\n",
    "        res = func(*args, **kwargs)\n",
    "        stop = datetime.now()\n",
    "        print(f'used: {stop-start}')\n",
    "        return res\n",
    "    return wrapper\n",
    "\n",
    "\n",
    "@timeit\n",
    "def foo():\n",
    "    print('in foo()')\n",
    "    time.sleep(5)\n",
    "\n",
    "foo()"
   ]
  },
  {
   "source": [
    "## 88. 将1-N 的整数数列以3为单位分组"
   ],
   "cell_type": "markdown",
   "metadata": {}
  },
  {
   "cell_type": "code",
   "execution_count": 13,
   "metadata": {},
   "outputs": [
    {
     "output_type": "execute_result",
     "data": {
      "text/plain": [
       "[[[1, 2, 3],\n",
       "  [4, 5, 6],\n",
       "  [7, 8, 9],\n",
       "  [10, 11, 12],\n",
       "  [13, 14, 15],\n",
       "  [16, 17, 18],\n",
       "  [19, 20, 21],\n",
       "  [22, 23, 24],\n",
       "  [25, 26, 27],\n",
       "  [28, 29, 30],\n",
       "  [31, 32, 33],\n",
       "  [34, 35, 36],\n",
       "  [37, 38, 39],\n",
       "  [40, 41, 42],\n",
       "  [43, 44, 45],\n",
       "  [46, 47, 48],\n",
       "  [49, 50, 51],\n",
       "  [52, 53, 54],\n",
       "  [55, 56, 57],\n",
       "  [58, 59, 60],\n",
       "  [61, 62, 63],\n",
       "  [64, 65, 66],\n",
       "  [67, 68, 69],\n",
       "  [70, 71, 72],\n",
       "  [73, 74, 75],\n",
       "  [76, 77, 78],\n",
       "  [79, 80, 81],\n",
       "  [82, 83, 84],\n",
       "  [85, 86, 87],\n",
       "  [88, 89, 90],\n",
       "  [91, 92, 93],\n",
       "  [94, 95, 96],\n",
       "  [97, 98, 99],\n",
       "  [100]]]"
      ]
     },
     "metadata": {},
     "execution_count": 13
    }
   ],
   "source": [
    "N = 100\n",
    "[[[x for x in range(1, N+1)] [i:i+3] for i in range(0, N+1, 3)]]"
   ]
  },
  {
   "source": [
    "## 95. re"
   ],
   "cell_type": "markdown",
   "metadata": {}
  },
  {
   "cell_type": "code",
   "execution_count": 3,
   "metadata": {},
   "outputs": [
    {
     "output_type": "execute_result",
     "data": {
      "text/plain": [
       "'abccc'"
      ]
     },
     "metadata": {},
     "execution_count": 3
    }
   ],
   "source": [
    "import re\n",
    "a = 'abbbccc'\n",
    "re.sub(r'b+', 'b', a)"
   ]
  },
  {
   "source": [
    "## 106. 进程"
   ],
   "cell_type": "markdown",
   "metadata": {}
  },
  {
   "cell_type": "code",
   "execution_count": 8,
   "metadata": {},
   "outputs": [],
   "source": [
    "# mulitprocessing.Process\n",
    "import os\n",
    "from multiprocessing import Process\n",
    "import time\n",
    "\n",
    "def pro_func(name, age, **kwargs):\n",
    "    for i in range(5):\n",
    "        print(f'子进程正在运行中，name={name},age={age},pid={os.getpid()}')\n",
    "        print(kwargs)\n",
    "        time.sleep(0.2)\n",
    "\n",
    "if __name__ == '__main__':\n",
    "    p = Process(target=pro_func, args=('小明', 18), kwargs={'m':20})\n",
    "    p.start()\n",
    "    time.sleep(1)\n",
    "    p.terminate()\n",
    "    p.join()"
   ]
  },
  {
   "cell_type": "code",
   "execution_count": null,
   "metadata": {},
   "outputs": [],
   "source": []
  }
 ],
 "metadata": {
  "kernelspec": {
   "display_name": "Python 3",
   "language": "python",
   "name": "python3"
  },
  "language_info": {
   "codemirror_mode": {
    "name": "ipython",
    "version": 3
   },
   "file_extension": ".py",
   "mimetype": "text/x-python",
   "name": "python",
   "nbconvert_exporter": "python",
   "pygments_lexer": "ipython3",
   "version": "3.8.6-final"
  },
  "toc": {
   "base_numbering": 1,
   "nav_menu": {},
   "number_sections": true,
   "sideBar": true,
   "skip_h1_title": false,
   "title_cell": "Table of Contents",
   "title_sidebar": "Contents",
   "toc_cell": false,
   "toc_position": {},
   "toc_section_display": true,
   "toc_window_display": true
  }
 },
 "nbformat": 4,
 "nbformat_minor": 4
}