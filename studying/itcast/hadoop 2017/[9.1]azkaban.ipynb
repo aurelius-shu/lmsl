{
 "cells": [
  {
   "cell_type": "markdown",
   "metadata": {},
   "source": [
    "\n",
    "\n",
    "\n",
    "# 前置安装：\n",
    "``` shell\n",
    "yum -y install httpd, git-core, gcc, gcc-c++\n",
    "```"
   ]
  },
  {
   "cell_type": "markdown",
   "metadata": {},
   "source": [
    "# 通过源构建\n",
    "\n",
    "``` shell\n",
    "# Build Azkaban\n",
    "./gradlew build\n",
    "\n",
    "# Clean the build\n",
    "./gradlew clean\n",
    "\n",
    "# Build and install distributions\n",
    "./gradlew installDist\n",
    "\n",
    "# Run tests\n",
    "./gradlew test\n",
    "\n",
    "# Build without running tests\n",
    "./gradlew build -x test\n",
    "```"
   ]
  },
  {
   "cell_type": "markdown",
   "metadata": {},
   "source": [
    "# Solo Server\n",
    "\n",
    "``` shell\n",
    "# 启动\n",
    "cd azkaban-solo-server/build/install/azkaban-solo-server; bin/start-solo.sh\n",
    "\n",
    "# 停止\n",
    "bin/shutdown-solo.sh\n",
    "```"
   ]
  },
  {
   "cell_type": "markdown",
   "metadata": {},
   "source": [
    "# Multi Executor Server"
   ]
  },
  {
   "cell_type": "markdown",
   "metadata": {},
   "source": [
    "## database\n",
    "\n",
    "``` sql\n",
    "-- 为Azkaban创建数据库\n",
    "create database azkaban;\n",
    "\n",
    "-- 为Azkaban创建一个mysql用户\n",
    "CREATE USER 'username'@'%' IDENTIFIED BY 'password';\n",
    "GRANT SELECT,INSERT,UPDATE,DELETE ON azkaban.* to '<username>'@'%' WITH GRANT OPTION;\n",
    "```\n",
    "``` \n",
    "# 重新配置Mysql数据包大小\n",
    "# /etc/my.cnf\n",
    "[mysqld]\n",
    "...\n",
    "max_allowed_packet=1024M\n",
    "```\n",
    "\n",
    "``` shell\n",
    "# 重新启动MySQL\n",
    "sudo /sbin/service mysqld restart\n",
    "\n",
    "# 创建Azkaban表\n",
    "cd azkaban-db; ../gradlew build installDist\n",
    "# 数据库创建脚本：\n",
    "# /Users/latang/LNKDRepos/azkaban/azkaban-db/build/distributions/azkaban-db-<version>\n",
    "```\n",
    "\n",
    "``` sql\n",
    "source /Users/latang/LNKDRepos/azkaban/azkaban-db/build/distributions/azkaban-db-<version>\n",
    "```"
   ]
  },
  {
   "cell_type": "markdown",
   "metadata": {},
   "source": [
    "## exec-server\n",
    "\n",
    "```\n",
    "# 配置 azkaban.properties\n",
    "# 配置文件路径： azkaban/azkaban-exec-server/build/install/azkaban-exec-server\n",
    "# Mysql Configs\n",
    "mysql.user=<username>\n",
    "mysql.password=<password>\n",
    "```\n",
    "\n",
    "``` shell\n",
    "# 启动，路径不要且到 bin， 否则 激活路径会失败\n",
    "cd azkaban-exec-server/build/install/azkaban-exec-server\n",
    "./bin/start-exec.sh\n",
    "\n",
    "# 激活执行程序\n",
    "cd azkaban-exec-server/build/install/azkaban-exec-server\n",
    "curl -G \"localhost:$(<./executor.port)/executor?action=activate\" && echo\n",
    "```"
   ]
  },
  {
   "cell_type": "markdown",
   "metadata": {},
   "source": [
    "## web-server\n",
    "\n",
    "```\n",
    "# 配置 azkaban.properties\n",
    "# 配置文件路径： azkaban/azkaban-web-server/build/install/azkaban-web-server\n",
    "# Mysql Configs\n",
    "mysql.user=<username>\n",
    "mysql.password=<password>\n",
    "```\n",
    "\n",
    "``` shell\n",
    "# 启动\n",
    "cd azkaban-web-server/build/install/azkaban-web-server\n",
    "./bin/start-web.sh\n",
    "```"
   ]
  },
  {
   "cell_type": "markdown",
   "metadata": {},
   "source": [
    "## Azkaban UI\n",
    "\n",
    "```\n",
    "http://localhost:8081/\n",
    "user: azkaban\n",
    "password: azkaban\n",
    "\n",
    "```"
   ]
  }
 ],
 "metadata": {
  "kernelspec": {
   "display_name": "Python 3",
   "language": "python",
   "name": "python3"
  },
  "language_info": {
   "codemirror_mode": {
    "name": "ipython",
    "version": 3
   },
   "file_extension": ".py",
   "mimetype": "text/x-python",
   "name": "python",
   "nbconvert_exporter": "python",
   "pygments_lexer": "ipython3",
   "version": "3.7.2"
  },
  "toc": {
   "base_numbering": 1,
   "nav_menu": {},
   "number_sections": true,
   "sideBar": true,
   "skip_h1_title": false,
   "title_cell": "Table of Contents",
   "title_sidebar": "Contents",
   "toc_cell": false,
   "toc_position": {
    "height": "calc(100% - 180px)",
    "left": "10px",
    "top": "150px",
    "width": "247.188px"
   },
   "toc_section_display": true,
   "toc_window_display": true
  }
 },
 "nbformat": 4,
 "nbformat_minor": 2
}
