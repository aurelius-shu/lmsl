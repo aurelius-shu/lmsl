{
 "cells": [
  {
   "cell_type": "markdown",
   "metadata": {},
   "source": [
    "- day 1\n",
    "    - linux 快速上手\n",
    "    - 虚拟机安装和网络配置\n",
    "    - 终端连接/ssh免密登陆\n",
    "    - 文件/权限/用户/工具/软件安装\n",
    "    - yum 本地库搭建\n",
    "    - 防火墙配置\n",
    "   \n",
    "- day 2\n",
    "    - shell 脚本编程\n",
    "    - crontab\n",
    "    - 高并发网站技术架构简介\n",
    "    - nginx 负载均衡搭建\n",
    "    - keepalived 高可用搭建\n",
    "    - 自动化软件安装脚本\n",
    "    - redis 集群搭建\n",
    "\n",
    "- day 3\n",
    "    - zookeeper 介绍\n",
    "    - zookeeper 安装\n",
    "    - zookeeper 基本api\n",
    "    - zookeeper 编程案例\n",
    "    \n",
    "- day 4\n",
    "    - 并发编程\n",
    "    - 反射，动态代理\n",
    "    - nio 入门\n",
    "    - netty 入门\n",
    "    \n",
    "- day 5\n",
    "    - netty 封装 RPC 框架\n",
    "    - dubbo\n",
    "    - hadoop rpc\n",
    "    - jvm\n",
    "\n",
    "- day 6 离线计算\n",
    "    - 大数据技术领域介绍（离线、实时、内存）\n",
    "    - hadoop 快速入门（架构体系： hdfs + mapreduce + yarn）\n",
    "    - 集群搭建"
   ]
  }
 ],
 "metadata": {
  "kernelspec": {
   "display_name": "Python 3",
   "language": "python",
   "name": "python3"
  },
  "language_info": {
   "codemirror_mode": {
    "name": "ipython",
    "version": 3
   },
   "file_extension": ".py",
   "mimetype": "text/x-python",
   "name": "python",
   "nbconvert_exporter": "python",
   "pygments_lexer": "ipython3",
   "version": "3.7.2"
  },
  "toc": {
   "base_numbering": 1,
   "nav_menu": {},
   "number_sections": true,
   "sideBar": true,
   "skip_h1_title": false,
   "title_cell": "Table of Contents",
   "title_sidebar": "Contents",
   "toc_cell": false,
   "toc_position": {},
   "toc_section_display": true,
   "toc_window_display": false
  }
 },
 "nbformat": 4,
 "nbformat_minor": 2
}
