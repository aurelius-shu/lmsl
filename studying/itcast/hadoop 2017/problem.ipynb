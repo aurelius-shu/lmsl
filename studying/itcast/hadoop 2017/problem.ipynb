{
 "cells": [
  {
   "cell_type": "markdown",
   "metadata": {},
   "source": [
    "# 2019-10-02 [Scala]"
   ]
  },
  {
   "cell_type": "markdown",
   "metadata": {},
   "source": [
    "## scala base"
   ]
  },
  {
   "cell_type": "markdown",
   "metadata": {},
   "source": [
    "### akka master 报错1\n",
    "错误: 无法初始化主类 cn.edu.rpc.Master\n",
    "原因: java.lang.NoClassDefFoundError: scala/Serializable\n",
    "\n",
    "版本冲突：去掉 pom.xml 中引用的 scala"
   ]
  },
  {
   "cell_type": "markdown",
   "metadata": {},
   "source": [
    "### akka master 报错2\n",
    "Exception in thread \"main\" java.lang.NoSuchMethodError: 'scala.collection.immutable.VectorBuilder scala.collection.immutable.VectorBuilder.$plus$eq(java.lang.Object)'\n",
    "\n",
    "版本冲突：通过 https://mvnrepository.com 查找与 scala 相对于的 akka 版本，替换至 pom.xml"
   ]
  },
  {
   "cell_type": "code",
   "execution_count": null,
   "metadata": {},
   "outputs": [],
   "source": []
  }
 ],
 "metadata": {
  "kernelspec": {
   "display_name": "Python 3",
   "language": "python",
   "name": "python3"
  },
  "language_info": {
   "codemirror_mode": {
    "name": "ipython",
    "version": 3
   },
   "file_extension": ".py",
   "mimetype": "text/x-python",
   "name": "python",
   "nbconvert_exporter": "python",
   "pygments_lexer": "ipython3",
   "version": "3.8.5"
  },
  "toc": {
   "base_numbering": 1,
   "nav_menu": {},
   "number_sections": true,
   "sideBar": true,
   "skip_h1_title": false,
   "title_cell": "Table of Contents",
   "title_sidebar": "Contents",
   "toc_cell": false,
   "toc_position": {},
   "toc_section_display": true,
   "toc_window_display": false
  }
 },
 "nbformat": 4,
 "nbformat_minor": 2
}
