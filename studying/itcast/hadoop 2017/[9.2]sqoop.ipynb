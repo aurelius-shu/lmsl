{
 "cells": [
  {
   "cell_type": "markdown",
   "metadata": {},
   "source": [
    "# 安装"
   ]
  },
  {
   "cell_type": "markdown",
   "metadata": {},
   "source": [
    "## Server Installation\n",
    "\n",
    "``` shell\n",
    "# Decompress Sqoop distribution tarball\n",
    "tar -xvf sqoop-<version>-bin-hadoop<hadoop-version>.tar.gz\n",
    "\n",
    "# Move decompressed content to any location\n",
    "mv sqoop-<version>-bin-hadoop<hadoop version>.tar.gz /usr/lib/sqoop\n",
    "\n",
    "# Change working directory\n",
    "cd /usr/lib/sqoop\n",
    "```"
   ]
  },
  {
   "cell_type": "markdown",
   "metadata": {},
   "source": [
    "## Hadoop dependencies\n",
    "\n",
    "```\n",
    "# Export HADOOP_HOME variable\n",
    "export HADOOP_HOME=/...\n",
    "\n",
    "# Or alternatively HADOOP_*_HOME variables\n",
    "export HADOOP_COMMON_HOME=/...\n",
    "export HADOOP_HDFS_HOME=/...\n",
    "export HADOOP_MAPRED_HOME=/...\n",
    "export HADOOP_YARN_HOME=/...\n",
    "```"
   ]
  },
  {
   "cell_type": "markdown",
   "metadata": {},
   "source": [
    "## Hadoop configuration\n",
    "\n",
    "``` xml\n",
    "# core-site.xml\n",
    "<property>\n",
    "  <name>hadoop.proxyuser.sqoop2.hosts</name>\n",
    "  <value>*</value>\n",
    "</property>\n",
    "<property>\n",
    "  <name>hadoop.proxyuser.sqoop2.groups</name>\n",
    "  <value>*</value>\n",
    "</property>\n",
    "```\n",
    "\n",
    "```\n",
    "# container-executor.cfg\n",
    "allowed.system.users=sqoop2\n",
    "```"
   ]
  },
  {
   "cell_type": "markdown",
   "metadata": {},
   "source": [
    "## mysql installation\n",
    "\n",
    "[installation document](http://localhost:8888/notebooks/data-science/database/mysql.ipynb)"
   ]
  },
  {
   "cell_type": "markdown",
   "metadata": {},
   "source": [
    "## Configuring Server"
   ]
  },
  {
   "cell_type": "markdown",
   "metadata": {},
   "source": [
    "```\n",
    "# sqoop.properties\n",
    "org.apache.sqoop.submission.engine.mapreduce.configuration.directory=/hadoop/hadoop-2.9.1/etc/hadoop/\n",
    "```"
   ]
  },
  {
   "cell_type": "markdown",
   "metadata": {},
   "source": [
    "## Repository Initialization"
   ]
  },
  {
   "cell_type": "markdown",
   "metadata": {},
   "source": [
    "``` shell\n",
    "sqoop2-tool upgrade\n",
    "sqoop2-tool verify\n",
    "```"
   ]
  },
  {
   "cell_type": "markdown",
   "metadata": {},
   "source": [
    "## Server Life Cycle\n",
    "\n",
    "``` shell\n",
    "sqoop2-server start\n",
    "sqoop2-server stop\n",
    "```"
   ]
  },
  {
   "cell_type": "markdown",
   "metadata": {},
   "source": [
    "## Client installation\n",
    "\n",
    "``` shell\n",
    "sqoop2-shell\n",
    "```"
   ]
  }
 ],
 "metadata": {
  "kernelspec": {
   "display_name": "Python 3",
   "language": "python",
   "name": "python3"
  },
  "language_info": {
   "codemirror_mode": {
    "name": "ipython",
    "version": 3
   },
   "file_extension": ".py",
   "mimetype": "text/x-python",
   "name": "python",
   "nbconvert_exporter": "python",
   "pygments_lexer": "ipython3",
   "version": "3.7.2"
  },
  "toc": {
   "base_numbering": 1,
   "nav_menu": {},
   "number_sections": true,
   "sideBar": true,
   "skip_h1_title": false,
   "title_cell": "Table of Contents",
   "title_sidebar": "Contents",
   "toc_cell": false,
   "toc_position": {},
   "toc_section_display": true,
   "toc_window_display": true
  }
 },
 "nbformat": 4,
 "nbformat_minor": 2
}
