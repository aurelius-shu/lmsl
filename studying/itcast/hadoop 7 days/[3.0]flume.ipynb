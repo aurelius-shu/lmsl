{
 "cells": [
  {
   "cell_type": "markdown",
   "metadata": {},
   "source": [
    "# flume"
   ]
  },
  {
   "cell_type": "markdown",
   "metadata": {},
   "source": [
    "## 安装\n",
    "``` bash\n",
    "cd conf/\n",
    "mv flume-env.sh.template flume-env.sh\n",
    "vi flume-env.sh\n",
    "```\n",
    "```\n",
    "export JAVA_HOME=/usr/local/jdkxxx\n",
    "export PATH=$PATH:$JAVA_HOME/bin\n",
    "source /ect/profile\n",
    "```\n",
    "\n",
    "## 配置\n",
    "``` bash\n",
    "# 配置 a1.conf 放入 conf 路径\n",
    "# 1. 定义 agent名， source, channel, sink 名\n",
    "a1.sources=r1\n",
    "a1.channels=c1\n",
    "a1.sinks=k1\n",
    "\n",
    "# 2. 具体定义source\n",
    "a1.sources.r1.type=spooldir\n",
    "a1.sources.r1.spoolDir=/root/logs\n",
    "\n",
    "# 3. 具体定义 channel\n",
    "a1.channels.c1.type=memory\n",
    "a1.channels.c1.capacity=10000\n",
    "a1.channels.c1.transactionCapacity=100\n",
    "\n",
    "# 4. 定义拦截器，为消息加时间戳\n",
    "a1.sources.r1.interceptors=i1\n",
    "a1.sources.r1.interceptors.i1.type=org.apache.flume.interceptor.TimestampInterceptor$Builder\n",
    "\n",
    "# 5. 具体定义sink\n",
    "a1.sinks.k1.type=hdfs\n",
    "a1.sinks.k1.hdfs.path=hdfs://ns1/flume/%y%m%d\n",
    "a1.sinks.k1.hdfs.filePrefix=events #前缀\n",
    "a1.sinks.k1.hdfs.fileType=DataStream #纯文本\n",
    "a1.sinks.k1.hdfs.rooCount=0 #不按照条数生成文件\n",
    "a1.sinks.k1.hdfs.rollSize=134217728 # hdfs 上的文件达到 128M 时生成一个文件\n",
    "a1.sinks.k1.hdfs.rollInterval=60 # hdfs上的文件达到 60s 生成一个文件\n",
    "\n",
    "# 6. 组装 source, channel, sink\n",
    "a1.sources.r1.channels=c1\n",
    "a1.sink.k1.channels=c1\n",
    "```\n",
    "\n",
    "## 启动\n",
    "``` bash\n",
    "bin/flume-ng agent -n a1 -c conf -f conf/a1.conf -D flume.root.logger=INFO,console\n",
    "```"
   ]
  }
 ],
 "metadata": {
  "kernelspec": {
   "display_name": "Python 3",
   "language": "python",
   "name": "python3"
  },
  "language_info": {
   "codemirror_mode": {
    "name": "ipython",
    "version": 3
   },
   "file_extension": ".py",
   "mimetype": "text/x-python",
   "name": "python",
   "nbconvert_exporter": "python",
   "pygments_lexer": "ipython3",
   "version": "3.7.2"
  },
  "toc": {
   "base_numbering": 1,
   "nav_menu": {},
   "number_sections": true,
   "sideBar": true,
   "skip_h1_title": false,
   "title_cell": "Table of Contents",
   "title_sidebar": "Contents",
   "toc_cell": false,
   "toc_position": {},
   "toc_section_display": true,
   "toc_window_display": true
  }
 },
 "nbformat": 4,
 "nbformat_minor": 2
}
