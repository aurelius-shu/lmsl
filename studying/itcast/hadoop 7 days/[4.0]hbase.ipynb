{
 "cells": [
  {
   "cell_type": "markdown",
   "metadata": {},
   "source": [
    "# HBase"
   ]
  },
  {
   "cell_type": "markdown",
   "metadata": {},
   "source": [
    "## HBase 概念\n",
    "分布式存储系统，结构化存储集群\n",
    "- 高可用 部分机器死掉了也不影响数据\n",
    "- 高性能\n",
    "- 可伸缩 加机器\n",
    "***\n",
    "1. 以HDFS 为其文件系统\n",
    "2. 以MapReduce 处理海量数据\n",
    "3. 以Zookeeper 协调集群\n",
    "***\n",
    "\n",
    "### 主键 Row Key\n",
    "访问 hbase table 的行\n",
    "1. 通过单 rowkey 访问\n",
    "2. 通过 row key 的 range 访问\n",
    "3. 全表扫描\n",
    "\n",
    "### 列族 Column Family\n",
    "一个列族可以由0 到多个列，以二进制存在，无数据类型，列族在建表时声明\n",
    "\n",
    "### 时间戳 timestamp\n",
    "HBase 中通过 row与column 确定一个存储单元cell，每个cell保存着一份数据的多个版本，版本通过时间戳来索引。\n",
    "![hbase-example](./images/hbase-example.png)\n",
    "\n",
    "## 单节点安装\n",
    "``` bash\n",
    "cd ./conf\n",
    "vi hbase-env.sh\n",
    "```\n",
    "\n",
    "```\n",
    "export JAVA_HOME=../jdk\n",
    "```\n",
    "\n",
    "``` bash\n",
    "vi hbase-site.xml\n",
    "```\n",
    "\n",
    "``` xml\n",
    "<configuration>\n",
    "    <property>\n",
    "        <name>hbase.rootdir</name>\n",
    "        <value>file:///root/hbase</value>\n",
    "    </property>\n",
    "</configuration>\n",
    "```\n",
    "\n",
    "``` bash\n",
    "# 启动\n",
    "./start-hbase.sh\n",
    "# 启动命令行\n",
    "./hbase shell\n",
    "```\n",
    "\n",
    "## hbase shell\n",
    "``` hbase\n",
    "# 创建表\n",
    "create 'people', {Name='info',VERSION=>3},{Name=>'data', VERSION=>1}\n",
    "# 查看表\n",
    "list\n",
    "查看表结构\n",
    "describe 'people'\n",
    "插入数据\n",
    "put 'people', 'rk001', 'info:name','c1'\n",
    "查看数据\n",
    "scan 'people',{Columns=>'info',VERSION=>3}\n",
    "```"
   ]
  }
 ],
 "metadata": {
  "kernelspec": {
   "display_name": "Python 3",
   "language": "python",
   "name": "python3"
  },
  "language_info": {
   "codemirror_mode": {
    "name": "ipython",
    "version": 3
   },
   "file_extension": ".py",
   "mimetype": "text/x-python",
   "name": "python",
   "nbconvert_exporter": "python",
   "pygments_lexer": "ipython3",
   "version": "3.7.2"
  },
  "toc": {
   "base_numbering": 1,
   "nav_menu": {},
   "number_sections": true,
   "sideBar": true,
   "skip_h1_title": false,
   "title_cell": "Table of Contents",
   "title_sidebar": "Contents",
   "toc_cell": false,
   "toc_position": {},
   "toc_section_display": true,
   "toc_window_display": true
  }
 },
 "nbformat": 4,
 "nbformat_minor": 2
}
