{
 "cells": [
  {
   "cell_type": "markdown",
   "metadata": {},
   "source": [
    "# sqoop"
   ]
  },
  {
   "cell_type": "markdown",
   "metadata": {},
   "source": [
    "## example: import\n",
    "``` bash\n",
    "cd /sqoop/bin/\n",
    ".sqoop import --connect jdbc:mysql://ip:3306/db \\\n",
    "--username root --password 123 --table t_test \\\n",
    "--target-dir /sqoop/td1 -m 2 \\\n",
    "--fields-terminated-by '\\0000' \\\n",
    "--columns \"id, field1, field2\" \\\n",
    "--where 'id>2 and id<=5'\n",
    "```\n",
    "\n",
    "## example: query\n",
    "``` bash\n",
    "--query 'select * from T where id > 2 and $conditions' --split-by T.id\n",
    "# query 默认只支持一个 map, 除非有分隔字段，双引号时 $ 要转义\n",
    "```\n",
    "\n",
    "## examplt: export\n",
    "``` bash\n",
    "./sqoop export --connect jdbc:mysql://ip:3306/db \\\n",
    "--username root --password 123 \\\n",
    "--export-dir '/sqoop/td' --table td_dest -m 1 \\\n",
    "--field-terminated-by '\\000'\n",
    "```"
   ]
  }
 ],
 "metadata": {
  "kernelspec": {
   "display_name": "Python 3",
   "language": "python",
   "name": "python3"
  },
  "language_info": {
   "codemirror_mode": {
    "name": "ipython",
    "version": 3
   },
   "file_extension": ".py",
   "mimetype": "text/x-python",
   "name": "python",
   "nbconvert_exporter": "python",
   "pygments_lexer": "ipython3",
   "version": "3.7.2"
  },
  "toc": {
   "base_numbering": 1,
   "nav_menu": {},
   "number_sections": true,
   "sideBar": true,
   "skip_h1_title": false,
   "title_cell": "Table of Contents",
   "title_sidebar": "Contents",
   "toc_cell": false,
   "toc_position": {},
   "toc_section_display": true,
   "toc_window_display": true
  }
 },
 "nbformat": 4,
 "nbformat_minor": 2
}
